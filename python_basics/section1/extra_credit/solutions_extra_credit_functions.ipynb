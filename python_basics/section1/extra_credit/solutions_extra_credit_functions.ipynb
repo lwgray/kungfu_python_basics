{
 "cells": [
  {
   "cell_type": "markdown",
   "metadata": {},
   "source": [
    "Write a Python function that takes a list and returns a new list with unique elements of the first list. Go to the editor\n",
    "Sample List : [1,2,3,3,3,3,4,5]\n",
    "Unique List : [1, 2, 3, 4, 5]"
   ]
  },
  {
   "cell_type": "code",
   "execution_count": 4,
   "metadata": {},
   "outputs": [
    {
     "name": "stdout",
     "output_type": "stream",
     "text": [
      "[1, 2, 3, 4, 5]\n",
      "[1, 2, 3, 4, 5]\n"
     ]
    }
   ],
   "source": [
    "def unique_elements_method1(a_list):\n",
    "    return list(set(a_list))\n",
    "\n",
    "def unique_elements_method2(a_list):\n",
    "    new_list = []\n",
    "    for item in a_list:\n",
    "        if item not in new_list:\n",
    "            new_list.append(item)\n",
    "    return new_list\n",
    "\n",
    "sample_list = [1,2,3,3,3,3,4,5]\n",
    "print(unique_elements_method1(sample_list))\n",
    "print(unique_elements_method2(sample_list))"
   ]
  },
  {
   "cell_type": "markdown",
   "metadata": {},
   "source": [
    "Write a Python program to print the even numbers from a given list.\n",
    "Sample List : [1, 2, 3, 4, 5, 6, 7, 8, 9]\n",
    "Expected Result : [2, 4, 6, 8]\n",
    "#### Special note:  You can use the '%' operator to determine if the division of two numbers will return a remainder\n",
    "#### for instance \n",
    "4 % 2 returns 0\n",
    "3 % 2 returns 1\n",
    "6 % 2 returns 0\n",
    "5 % 2 returns 1"
   ]
  },
  {
   "cell_type": "code",
   "execution_count": 7,
   "metadata": {},
   "outputs": [
    {
     "name": "stdout",
     "output_type": "stream",
     "text": [
      "2\n",
      "4\n",
      "6\n",
      "8\n"
     ]
    }
   ],
   "source": [
    "sample_list = [1, 2, 3, 4, 5, 6, 7, 8, 9]\n",
    "def even(a_list):\n",
    "    for item in a_list:\n",
    "        if item % 2 == 0:\n",
    "            print(item)\n",
    "        else:\n",
    "            continue\n",
    "            \n",
    "even(sample_list)"
   ]
  },
  {
   "cell_type": "markdown",
   "metadata": {},
   "source": [
    "Write a Python function to create and print a list where the values are square of numbers between 1 and 30 (both included). \n",
    "Look up the 'range' function and how to use it. https://docs.python.org/3/library/functions.html#func-range"
   ]
  },
  {
   "cell_type": "code",
   "execution_count": 17,
   "metadata": {},
   "outputs": [
    {
     "data": {
      "text/plain": [
       "[1,\n",
       " 4,\n",
       " 9,\n",
       " 16,\n",
       " 25,\n",
       " 36,\n",
       " 49,\n",
       " 64,\n",
       " 81,\n",
       " 100,\n",
       " 121,\n",
       " 144,\n",
       " 169,\n",
       " 196,\n",
       " 225,\n",
       " 256,\n",
       " 289,\n",
       " 324,\n",
       " 361,\n",
       " 400,\n",
       " 441,\n",
       " 484,\n",
       " 529,\n",
       " 576,\n",
       " 625,\n",
       " 676,\n",
       " 729,\n",
       " 784,\n",
       " 841,\n",
       " 900]"
      ]
     },
     "execution_count": 17,
     "metadata": {},
     "output_type": "execute_result"
    }
   ],
   "source": [
    "def square():\n",
    "    new_list = []\n",
    "    for x in range(1,31):\n",
    "        new_list.append(x*x)\n",
    "    return new_list\n",
    "\n",
    "square()"
   ]
  },
  {
   "cell_type": "markdown",
   "metadata": {},
   "source": [
    "First, `def` a function, named `shut_down`, that takes one argument `s`. Then, `if` the shut_down function receives an `s` equal to \"yes\", it should return \"Shutting down\" Alternatively, `elif` `s` is equal to \"no\", then the function should `return` \"Shutdown aborted\". Finally, if shut_down gets anything other than those inputs, the function should `return` \"Sorry\"."
   ]
  },
  {
   "cell_type": "code",
   "execution_count": 18,
   "metadata": {},
   "outputs": [
    {
     "data": {
      "text/plain": [
       "'Shutdown aborted'"
      ]
     },
     "execution_count": 18,
     "metadata": {},
     "output_type": "execute_result"
    }
   ],
   "source": [
    "def shutdown(s):\n",
    "    if s == 'yes':\n",
    "        return \"Shutting down\"\n",
    "    elif s == 'no':\n",
    "        return \"Shutdown aborted\"\n",
    "    else:\n",
    "        return \"Sorry\"\n",
    "shutdown('no')"
   ]
  },
  {
   "cell_type": "markdown",
   "metadata": {},
   "source": [
    "First, `def` a function called `distance_from_zero`, with one argument (choose any argument name you like). `If` the `type` of the argument is either `int` or `float`, the function should return the absolute value of the function input. Otherwise, the function should return \"Nope\". Check if it works calling the function with -5.6 and \"what?\".  The function for absolute values is `abs()`"
   ]
  },
  {
   "cell_type": "code",
   "execution_count": 22,
   "metadata": {},
   "outputs": [
    {
     "data": {
      "text/plain": [
       "'Nope'"
      ]
     },
     "execution_count": 22,
     "metadata": {},
     "output_type": "execute_result"
    }
   ],
   "source": [
    "def distance_from_zero(oh):\n",
    "    if type(oh) is int or type(oh) is float:\n",
    "        return abs(oh)\n",
    "    else:\n",
    "        return(\"Nope\")\n",
    "\n",
    "distance_from_zero(\"What?\")"
   ]
  },
  {
   "cell_type": "markdown",
   "metadata": {},
   "source": [
    "Write a pay computation program with time-and-a-half for overtime (anything over 40 hours) and create a function called computepay which takes two parameters (hours and rate).\n",
    "\n",
    "Enter Hours: 45\n",
    "Enter Rate: 10\n",
    "Pay: 475.0"
   ]
  },
  {
   "cell_type": "code",
   "execution_count": 23,
   "metadata": {},
   "outputs": [
    {
     "data": {
      "text/plain": [
       "475.0"
      ]
     },
     "execution_count": 23,
     "metadata": {},
     "output_type": "execute_result"
    }
   ],
   "source": [
    "def computepay(hours, rate):\n",
    "    regular_hours = hours\n",
    "    if hours > 40:\n",
    "        regular_hours = 40\n",
    "        overtime_hours = hours - 40\n",
    "        overtime_rate = rate * 1.5\n",
    "        overtime_pay = overtime_hours * overtime_rate\n",
    "        regular_pay = regular_hours * rate\n",
    "        return overtime_pay + regular_pay\n",
    "    else:\n",
    "        return hours * rate\n",
    "    \n",
    "computepay(45, 10)"
   ]
  },
  {
   "cell_type": "markdown",
   "metadata": {},
   "source": [
    "* Define a function called hotel_cost with one argument nights as input. The hotel costs $140 per night. So, the function hotel_cost should return 140 * nights.\n",
    "* Define a function called plane_ride_cost that takes a string, city, as input. The function should return a different price depending on the location, similar to the code example above. Below are the valid destinations and their corresponding round-trip prices.\n",
    "\n",
    "* {\"Charlotte\": 183, \"Tampa\": 220, \"Pittsburgh\": 222, \"Los Angeles\": 475}\n",
    "\n",
    "* Define a function called rental_car_cost with an argument called days. \n",
    "* Calculate the cost of renting the car: Every day you rent the car costs $40(cost=40 per days) \n",
    "* if you rent the car for 7 or more days, you get $50 off your total(cost-=50). \n",
    "* Alternatively (elif), if you rent the car for 3 or more days, you get $20 off your total. \n",
    "* You cannot get both of the above discounts. Return that cost.\n",
    "* Define a function called trip_cost that takes two arguments, city and days. \n",
    "* Have your function return the sum of calling the rental_car_cost(days), hotel_cost(days), and plane_ride_cost(city) functions.\n",
    "* Modify your trip_cost function definion. Add a third argument, spending_money. Modify what the trip_cost function does. Add the variable `spending_money` to the sum that it returns.\n"
   ]
  },
  {
   "cell_type": "code",
   "execution_count": 28,
   "metadata": {},
   "outputs": [
    {
     "data": {
      "text/plain": [
       "1393.0"
      ]
     },
     "execution_count": 28,
     "metadata": {},
     "output_type": "execute_result"
    }
   ],
   "source": [
    "def hotel_cost(nights):\n",
    "    cost = 140.00 * nights\n",
    "    return cost\n",
    "\n",
    "def plane_ride_cost(city):\n",
    "    cities = {\"Charlotte\": 183, \"Tampa\": 220, \"Pittsburgh\": 222, \"Los Angeles\": 475}\n",
    "    cost = cities[city]\n",
    "    return cost\n",
    "\n",
    "def rental_car_cost(days):\n",
    "    cost = 40 * days\n",
    "    if days >= 7:\n",
    "        cost = cost - 50\n",
    "    elif days >= 3:\n",
    "        cost = cost - 20\n",
    "    return cost\n",
    "\n",
    "def trip_cost(city, days):\n",
    "    # cost = sum([hotel_cost(days), plane_ride_cost(city), rental_car_cost(days)])\n",
    "    hotel = hotel_cost(days)\n",
    "    plane = plane_ride_cost(city)\n",
    "    rental = rental_car_cost(days)\n",
    "    cost = hotel + plane + rental\n",
    "    return cost\n",
    "\n",
    "trip_cost('Charlotte', 7)\n",
    "\n"
   ]
  },
  {
   "cell_type": "markdown",
   "metadata": {},
   "source": [
    "First, def a function called cube that takes an argument called number.\n",
    "Make that function return the cube of that number (i.e. that number multiplied by itself and multiplied by itself once again).\n",
    "Define a second function called by_three that takes an argument called number. if that number is divisible by 3,by_three should call cube(number) and return its result. Otherwise, by_three should return False. -Check if it works"
   ]
  },
  {
   "cell_type": "code",
   "execution_count": 33,
   "metadata": {},
   "outputs": [
    {
     "name": "stdout",
     "output_type": "stream",
     "text": [
      "9\n",
      "HI\n"
     ]
    },
    {
     "data": {
      "text/plain": [
       "729"
      ]
     },
     "execution_count": 33,
     "metadata": {},
     "output_type": "execute_result"
    }
   ],
   "source": [
    "def cube(number):\n",
    "    return number * number * number\n",
    "\n",
    "def by_three(number):\n",
    "    if number % 3 == 0:\n",
    "        result = cube(number)\n",
    "        return result\n",
    "    else:\n",
    "        return False\n",
    "    \n",
    "by_three(9)"
   ]
  },
  {
   "cell_type": "code",
   "execution_count": 32,
   "metadata": {},
   "outputs": [
    {
     "data": {
      "text/plain": [
       "0"
      ]
     },
     "execution_count": 32,
     "metadata": {},
     "output_type": "execute_result"
    }
   ],
   "source": [
    "9 % 3\n"
   ]
  }
 ],
 "metadata": {
  "kernelspec": {
   "display_name": "Python 3",
   "language": "python",
   "name": "python3"
  },
  "language_info": {
   "codemirror_mode": {
    "name": "ipython",
    "version": 3
   },
   "file_extension": ".py",
   "mimetype": "text/x-python",
   "name": "python",
   "nbconvert_exporter": "python",
   "pygments_lexer": "ipython3",
   "version": "3.7.0"
  }
 },
 "nbformat": 4,
 "nbformat_minor": 4
}
