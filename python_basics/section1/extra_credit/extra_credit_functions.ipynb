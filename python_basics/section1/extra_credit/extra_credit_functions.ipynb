{
 "cells": [
  {
   "cell_type": "markdown",
   "metadata": {},
   "source": [
    "# Exercise 1\n",
    "Write a Python function that takes a list and returns a new list with unique elements of the first list. Go to the editor\n",
    "Sample List : [1,2,3,3,3,3,4,5]\n",
    "Unique List : [1, 2, 3, 4, 5]"
   ]
  },
  {
   "cell_type": "markdown",
   "metadata": {},
   "source": [
    "# Exercise 2\n",
    "Write a Python program to print the even numbers from a given list.\n",
    "Sample List : [1, 2, 3, 4, 5, 6, 7, 8, 9]\n",
    "Expected Result : [2, 4, 6, 8]\n",
    "\n",
    "**Special note:  You can use the '%' operator to determine if the division of two numbers will return a remainde for instance**\n",
    "\n",
    "* 4 % 2 returns 0\n",
    "* 3 % 2 returns 1\n",
    "* 6 % 2 returns 0\n",
    "* 5 % 2 returns 1"
   ]
  },
  {
   "cell_type": "markdown",
   "metadata": {},
   "source": [
    "# Exercise 3\n",
    "Write a Python function to create and print a list where the values are square of numbers between 1 and 30 (both included). \n",
    "Look up the 'range' function and how to use it. https://docs.python.org/3/library/functions.html#func-range"
   ]
  },
  {
   "cell_type": "markdown",
   "metadata": {},
   "source": [
    "# Exercise 4\n",
    "First, `def` a function, named `shut_down`, that takes one argument `s`. Then, `if` the shut_down function receives an `s` equal to \"yes\", it should return \"Shutting down\" Alternatively, `elif` `s` is equal to \"no\", then the function should `return` \"Shutdown aborted\". Finally, if shut_down gets anything other than those inputs, the function should `return` \"Sorry\"."
   ]
  },
  {
   "cell_type": "markdown",
   "metadata": {},
   "source": [
    "# Exercise 5\n",
    "First, `def` a function called `distance_from_zero`, with one argument (choose any argument name you like). `If` the `type` of the argument is either `int` or `float`, the function should return the absolute value of the function input. Otherwise, the function should return \"Nope\". Check if it works calling the function with -5.6 and \"what?\".  The function for absolute values is `abs()`"
   ]
  },
  {
   "cell_type": "markdown",
   "metadata": {},
   "source": [
    "# Exercise 6\n",
    "Write a pay computation program with time-and-a-half for overtime (anything over 40 hours) and create a function called computepay which takes two parameters (hours and rate).\n",
    "\n",
    "Enter Hours: 45\n",
    "Enter Rate: 10\n",
    "Pay: 475.0"
   ]
  },
  {
   "cell_type": "markdown",
   "metadata": {},
   "source": [
    "# Exercise 7\n",
    "* Define a function called hotel_cost with one argument nights as input. The hotel costs $140 per night. So, the function hotel_cost should return 140 * nights.\n",
    "* Define a function called plane_ride_cost that takes a string, city, as input. The function should return a different price depending on the location, similar to the code example above. Below are the valid destinations and their corresponding round-trip prices.\n",
    "\n",
    "* {\"Charlotte\": 183, \"Tampa\": 220, \"Pittsburgh\": 222, \"Los Angeles\": 475}\n",
    "\n",
    "* Define a function called rental_car_cost with an argument called days. \n",
    "* Calculate the cost of renting the car: Every day you rent the car costs $40(cost=40 per days) \n",
    "* if you rent the car for 7 or more days, you get $50 off your total(cost-=50). \n",
    "* Alternatively (elif), if you rent the car for 3 or more days, you get $20 off your total. \n",
    "* You cannot get both of the above discounts. Return that cost.\n",
    "* Define a function called trip_cost that takes two arguments, city and days. \n",
    "* Have your function return the sum of calling the rental_car_cost(days), hotel_cost(days), and plane_ride_cost(city) functions.\n",
    "* Modify your trip_cost function definion. Add a third argument, spending_money. Modify what the trip_cost function does. Add the variable `spending_money` to the sum that it returns.\n"
   ]
  },
  {
   "cell_type": "markdown",
   "metadata": {},
   "source": [
    "# Exercise 8\n",
    "First, def a function called cube that takes an argument called number.\n",
    "Make that function return the cube of that number (i.e. that number multiplied by itself and multiplied by itself once again).\n",
    "Define a second function called by_three that takes an argument called number. if that number is divisible by 3,by_three should call cube(number) and return its result. Otherwise, by_three should return False. -Check if it works"
   ]
  }
 ],
 "metadata": {
  "kernelspec": {
   "display_name": "Python 3",
   "language": "python",
   "name": "python3"
  },
  "language_info": {
   "codemirror_mode": {
    "name": "ipython",
    "version": 3
   },
   "file_extension": ".py",
   "mimetype": "text/x-python",
   "name": "python",
   "nbconvert_exporter": "python",
   "pygments_lexer": "ipython3",
   "version": "3.7.7"
  }
 },
 "nbformat": 4,
 "nbformat_minor": 4
}
