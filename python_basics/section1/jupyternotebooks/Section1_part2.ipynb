{
 "cells": [
  {
   "cell_type": "markdown",
   "metadata": {
    "slideshow": {
     "slide_type": "notes"
    }
   },
   "source": [
    "# Control Flow\n",
    "\n",
    "Control flow is a concept that allows the Python interpreter to react to different comparison expressions and divert into different logic depending on how that comparison evaluated. \n",
    "\n",
    "There's several ways to control the flow of logic that we'll discuss here:\n",
    " - `if/elif/else` statements\n",
    " - `while` loops\n",
    " - `for` loops\n",
    " - `pass`,  `break`, and `continue`\n",
    " \n",
    "### `if/elif/else`\n",
    "Let's start with `if/elif/else` statements. Similar to its English equivalent, an `if` statement will evaluate some comparison, and **if** it evaluates to `True`, will conduct the logic belonging to that `if` statement.\n",
    " \n",
    "Ownership of logic is specified in Python via **indentation**. A **block** of code indented under a control flow statement belongs to that control condition and will only execute when the condition is met.\n",
    "\n",
    "Let's take a look:\n",
    " "
   ]
  },
  {
   "cell_type": "code",
   "execution_count": null,
   "metadata": {},
   "outputs": [],
   "source": [
    "if 4 < 5:\n",
    "    print(\"This is True\")"
   ]
  },
  {
   "cell_type": "markdown",
   "metadata": {},
   "source": [
    "<img src='https://i.ibb.co/dkMB1zj/if-statement.png' width=400 height=400>"
   ]
  },
  {
   "cell_type": "code",
   "execution_count": null,
   "metadata": {
    "slideshow": {
     "slide_type": "slide"
    }
   },
   "outputs": [],
   "source": [
    "name = 'Larry'\n",
    "if name == 'Larry':\n",
    "    print(\"I love Python\")"
   ]
  },
  {
   "cell_type": "markdown",
   "metadata": {
    "slideshow": {
     "slide_type": "fragment"
    }
   },
   "source": [
    "# Anatomy of an `if` statement\n",
    "\n",
    "if <font color='orange'>conditional_expression</font>:<br>\n",
    "&nbsp;&nbsp;&nbsp;&nbsp;<font color='gray'>your_code_here</font><br>\n",
    "&nbsp;&nbsp;&nbsp;&nbsp;<font color='gray'>your_code_here</font><br>\n",
    "&nbsp;&nbsp;&nbsp;&nbsp;<font color='gray'>your_code_here</font><br>"
   ]
  },
  {
   "cell_type": "markdown",
   "metadata": {
    "slideshow": {
     "slide_type": "subslide"
    }
   },
   "source": [
    "### SPACING matters"
   ]
  },
  {
   "cell_type": "code",
   "execution_count": null,
   "metadata": {
    "slideshow": {
     "slide_type": "fragment"
    }
   },
   "outputs": [],
   "source": [
    "if 5 < 4:\n",
    "    print(\"Math still works!\")"
   ]
  },
  {
   "cell_type": "code",
   "execution_count": null,
   "metadata": {
    "slideshow": {
     "slide_type": "fragment"
    }
   },
   "outputs": [],
   "source": [
    "if 5 > 4:\n",
    "    print(\"Math still works!\")\n",
    "  print(\"but bad spacing causes errors!\")"
   ]
  },
  {
   "cell_type": "markdown",
   "metadata": {
    "slideshow": {
     "slide_type": "notes"
    }
   },
   "source": [
    "`elif` is short for/a smash together of the phrase \"else if\", which will specify a further condition to test in case the first one doesn't evaluate to True. In a long string of `if/elif` statements, once one of the control statements evaluates to True, it will run the associated block of code and then stop testing the remainder of the control statements. Let's see it in action:"
   ]
  },
  {
   "cell_type": "markdown",
   "metadata": {
    "tags": []
   },
   "source": [
    "<img src=\"https://i.ibb.co/rZ86137/elif.png\" width=400 height=400>"
   ]
  },
  {
   "cell_type": "code",
   "execution_count": null,
   "metadata": {
    "slideshow": {
     "slide_type": "slide"
    }
   },
   "outputs": [],
   "source": [
    "name = 'Larry'\n",
    "age = 41\n",
    "\n",
    "if name == 'Max':\n",
    "    print(\"Hi, Max\")\n",
    "elif age > 17:\n",
    "    print(\"Hi, legal Adult\")"
   ]
  },
  {
   "cell_type": "markdown",
   "metadata": {
    "slideshow": {
     "slide_type": "fragment"
    }
   },
   "source": [
    "# Anatomy of an `if`/`elif` statement\n",
    "\n",
    "if <font color='orange'>conditional_expression</font>:<br>\n",
    "&nbsp;&nbsp;&nbsp;&nbsp;<font color='gray'>your_code_here</font><br>\n",
    "&nbsp;&nbsp;&nbsp;&nbsp;<font color='gray'>your_code_here</font><br>\n",
    "&nbsp;&nbsp;&nbsp;&nbsp;<font color='gray'>your_code_here</font><br>\n",
    "elif <font color='orange'>another_conditional_expression</font>:<br>\n",
    "&nbsp;&nbsp;&nbsp;&nbsp;<font color='gray'>your_code_here</font><br>\n",
    "&nbsp;&nbsp;&nbsp;&nbsp;<font color='gray'>your_code_here</font><br>\n",
    "&nbsp;&nbsp;&nbsp;&nbsp;<font color='gray'>your_code_here</font><br>"
   ]
  },
  {
   "cell_type": "markdown",
   "metadata": {
    "slideshow": {
     "slide_type": "subslide"
    }
   },
   "source": [
    "###  The first true conditional statement block is the **only** one that executes in a chain of `if`/`elif` statements"
   ]
  },
  {
   "cell_type": "markdown",
   "metadata": {},
   "source": [
    "<img src=\"https://i.ibb.co/T0qCRQz/if-elif-elif.png\" width=400 height=400>"
   ]
  },
  {
   "cell_type": "code",
   "execution_count": null,
   "metadata": {
    "slideshow": {
     "slide_type": "fragment"
    }
   },
   "outputs": [],
   "source": [
    "name = 'Kristy'\n",
    "age = 40\n",
    "\n",
    "if name == 'Max':\n",
    "    print(\"Hi, Max\")\n",
    "elif age > 17:\n",
    "    print(\"Hi, legal Adult\")\n",
    "elif age > 30:\n",
    "    print(\"Hi, Toddler\")"
   ]
  },
  {
   "cell_type": "markdown",
   "metadata": {
    "slideshow": {
     "slide_type": "notes"
    }
   },
   "source": [
    "`else` is a final control statment to include that needs no comparison to evaluate, because it is the case that should be execute if all other control statements in the `if/elif/else` chain fail. Basically, it is the catch all for \"all other conditions not yet specified\"."
   ]
  },
  {
   "cell_type": "markdown",
   "metadata": {},
   "source": [
    "<img src=\"https://i.ibb.co/RvN9jMR/if-elif-else.png\" width=400 height=400>"
   ]
  },
  {
   "cell_type": "code",
   "execution_count": null,
   "metadata": {
    "slideshow": {
     "slide_type": "subslide"
    }
   },
   "outputs": [],
   "source": [
    "name = 'Kristy'\n",
    "age = 10\n",
    "\n",
    "if name == 'Max':\n",
    "    print(\"Hi, Max\")\n",
    "elif age > 17:\n",
    "    print(\"Hi, legal Adult\")\n",
    "else:\n",
    "    print(\"Hi, Stranger\")"
   ]
  },
  {
   "cell_type": "markdown",
   "metadata": {
    "slideshow": {
     "slide_type": "fragment"
    }
   },
   "source": [
    "# Anatomy of an `if`/`elif`/`else` statement\n",
    "\n",
    "if <font color='orange'>conditional_expression</font>:<br>\n",
    "&nbsp;&nbsp;&nbsp;&nbsp;<font color='gray'>your_code_here</font><br>\n",
    "&nbsp;&nbsp;&nbsp;&nbsp;<font color='gray'>your_code_here</font><br>\n",
    "&nbsp;&nbsp;&nbsp;&nbsp;<font color='gray'>your_code_here</font><br>\n",
    "elif <font color='orange'>another_conditional_expression</font>:<br>\n",
    "&nbsp;&nbsp;&nbsp;&nbsp;<font color='gray'>your_code_here</font><br>\n",
    "&nbsp;&nbsp;&nbsp;&nbsp;<font color='gray'>your_code_here</font><br>\n",
    "&nbsp;&nbsp;&nbsp;&nbsp;<font color='gray'>your_code_here</font><br>\n",
    "else:<br>\n",
    "&nbsp;&nbsp;&nbsp;&nbsp;<font color='gray'>your_code_here</font><br>\n",
    "&nbsp;&nbsp;&nbsp;&nbsp;<font color='gray'>your_code_here</font><br>\n",
    "&nbsp;&nbsp;&nbsp;&nbsp;<font color='gray'>your_code_here</font><br>"
   ]
  },
  {
   "cell_type": "code",
   "execution_count": null,
   "metadata": {},
   "outputs": [],
   "source": [
    "bob_height = 78\n",
    "bob_speed = 3\n",
    "if bob_height >= 72:\n",
    "    print('Made Team')\n",
    "    if bob_speed >= 4:\n",
    "        print('Bob made Varsity')\n",
    "    elif bob_speed < 4:\n",
    "        print('Bob made Junior Varsity')\n",
    "else:\n",
    "    print(\"Bob didn't make the Team\")"
   ]
  },
  {
   "cell_type": "markdown",
   "metadata": {
    "slideshow": {
     "slide_type": "notes"
    }
   },
   "source": [
    "Let's run through a configurable case to see how different combinations of if/elif/else statements might work (Bob/Sally/else example)"
   ]
  },
  {
   "cell_type": "markdown",
   "metadata": {
    "slideshow": {
     "slide_type": "notes"
    }
   },
   "source": [
    "### `while` loops\n",
    "\n",
    "A while loop will run an associated code block for as long as a condition evaluates to `True`. Once the specified condition stops evaluating to `True`, the control will escape the code block. For this reason, you should generally always be evaluating a `while` statement against some changing parameter that will eventually become `False`. Let's take a look:"
   ]
  },
  {
   "cell_type": "markdown",
   "metadata": {},
   "source": [
    "# `if` statement\n",
    "<img src=\"https://i.ibb.co/jJjv1yN/if-statement-no-loop.png\" width=400 height=400>\n",
    "\n",
    "# `while` loop\n",
    "<img src=\"https://i.ibb.co/NrYJ0Xx/while-loop.png\" width=400 height=400>"
   ]
  },
  {
   "cell_type": "code",
   "execution_count": null,
   "metadata": {
    "slideshow": {
     "slide_type": "slide"
    }
   },
   "outputs": [],
   "source": [
    "spam = 0\n",
    "    \n",
    "while spam < 5:\n",
    "    print(\"Hello, world.\")\n",
    "    spam = spam + 1"
   ]
  },
  {
   "cell_type": "markdown",
   "metadata": {
    "slideshow": {
     "slide_type": "fragment"
    }
   },
   "source": [
    "# Anatomy of a `while` loop\n",
    "\n",
    "while <font color='orange'>a_conditional_expression_you_expect_to_change_over_time</font>:<br>\n",
    "&nbsp;&nbsp;&nbsp;&nbsp;<font color='gray'>your_code_here</font><br>\n",
    "&nbsp;&nbsp;&nbsp;&nbsp;<font color='gray'>your_code_here</font><br>\n",
    "&nbsp;&nbsp;&nbsp;&nbsp;<font color='gray'>your_code_here</font><br>"
   ]
  },
  {
   "cell_type": "markdown",
   "metadata": {
    "slideshow": {
     "slide_type": "notes"
    }
   },
   "source": [
    "You'll get yourself and the Python interpreter stuck if you set up a `while` loop to check a condition that never changes or that will never be False. So watch out!"
   ]
  },
  {
   "cell_type": "markdown",
   "metadata": {
    "slideshow": {
     "slide_type": "notes"
    }
   },
   "source": [
    "### `for` loops\n",
    "\n",
    "So earlier on I was not entirely thorough about the definitions of some data types (in fact, many times..). But it will now become useful to explain that certain data types have the property of being **iterable**. This generally applies to data types that are collections of values and means that you can increment across some index to access each individual value in a data structure. We practiced selecting specific indicies to get a single value out, such as `our_list[0]` or `our_dict['item_one']`. `for` loops will increment across the entire index and evaluate the associated code block once for each index. Let's see it happen:"
   ]
  },
  {
   "cell_type": "code",
   "execution_count": null,
   "metadata": {},
   "outputs": [],
   "source": [
    "our_list = [1,2,3,4]\n",
    "our_list[0]"
   ]
  },
  {
   "cell_type": "code",
   "execution_count": null,
   "metadata": {
    "slideshow": {
     "slide_type": "slide"
    }
   },
   "outputs": [],
   "source": [
    "shopping_cart = ['apple', 'grape', 'orange', 'steak']"
   ]
  },
  {
   "cell_type": "code",
   "execution_count": null,
   "metadata": {
    "slideshow": {
     "slide_type": "slide"
    }
   },
   "outputs": [],
   "source": [
    "for food in shopping_cart:\n",
    "    print(food.upper())\n",
    "    "
   ]
  },
  {
   "cell_type": "markdown",
   "metadata": {
    "slideshow": {
     "slide_type": "fragment"
    }
   },
   "source": [
    "# Anatomy of a `for` loop\n",
    "for <font color='purple'>nickname_variable</font> in <font color=\"orange\">iterable</font>:<br>\n",
    "&nbsp;&nbsp;&nbsp;&nbsp;<font color='gray'>your_code_here</font><br>\n",
    "&nbsp;&nbsp;&nbsp;&nbsp;<font color='gray'>your_code_here</font><br>\n",
    "&nbsp;&nbsp;&nbsp;&nbsp;<font color='gray'>your_code_here</font><br>"
   ]
  },
  {
   "cell_type": "code",
   "execution_count": null,
   "metadata": {
    "slideshow": {
     "slide_type": "subslide"
    }
   },
   "outputs": [],
   "source": [
    "# call \"nickname_variable\" whatever you want\n",
    "a_different_iterable = (\"a\", \"b\", \"c\", \"d\")\n",
    "janet_items = ['box', 'ball', 'boy', 'button']\n",
    "for banana in janet_items:\n",
    "    print(banana)"
   ]
  },
  {
   "cell_type": "markdown",
   "metadata": {},
   "source": [
    "# `range` function\n",
    "The range function allows for you to create a sequence of numbers.  It takes 3 arguments.  1) The number you want to begin 2) The number you want to end at (not including this number) 3) the steps between the numbers"
   ]
  },
  {
   "cell_type": "code",
   "execution_count": null,
   "metadata": {},
   "outputs": [],
   "source": [
    "zero_ten = range(0,10)\n",
    "type(zero_ten)"
   ]
  },
  {
   "cell_type": "code",
   "execution_count": null,
   "metadata": {},
   "outputs": [],
   "source": [
    "#convert to list to see contents for range\n",
    "list(zero_ten)"
   ]
  },
  {
   "cell_type": "code",
   "execution_count": null,
   "metadata": {},
   "outputs": [],
   "source": [
    "for x in range(0, 5):\n",
    "    print(x)"
   ]
  },
  {
   "cell_type": "code",
   "execution_count": null,
   "metadata": {},
   "outputs": [],
   "source": [
    "for x in range(0,11, 2):\n",
    "    print(x)"
   ]
  },
  {
   "cell_type": "markdown",
   "metadata": {
    "slideshow": {
     "slide_type": "notes"
    }
   },
   "source": [
    "## `pass`, `break`, and `continue`\n",
    "\n",
    "Besides doing some sort of specific action as the logic in a code block for a specific control flow statement, we have a number of other options preserved in the `pass`, `break`, and `continue` statements. Let's look at each one one at a time.\n",
    "\n",
    "`pass` is the logic equivalent of `None`; it basically means do nothing. Syntactically you cannot have no code block associate with a control flow statement, so this gives you a way to specify explicitly that this line should simply be passed over:"
   ]
  },
  {
   "cell_type": "markdown",
   "metadata": {
    "slideshow": {
     "slide_type": "slide"
    }
   },
   "source": [
    "### The `pass` keyword"
   ]
  },
  {
   "cell_type": "code",
   "execution_count": null,
   "metadata": {
    "slideshow": {
     "slide_type": "fragment"
    }
   },
   "outputs": [],
   "source": [
    "if 5>3:\n",
    "    pass"
   ]
  },
  {
   "cell_type": "markdown",
   "metadata": {
    "slideshow": {
     "slide_type": "notes"
    }
   },
   "source": [
    "See? Nothing happened. It evaluated to True, but it simply passed on.\n",
    "\n",
    "Next we have `break`. This statement will break out of the current control flow entirely. It's a way to abort continuing the control flow you are in. For example with a `for` loop, maybe you stop caring about the list you're iterating on after the value 4. In that case, you can check with an if statement and break the for loop using `break`:"
   ]
  },
  {
   "cell_type": "markdown",
   "metadata": {
    "slideshow": {
     "slide_type": "slide"
    }
   },
   "source": [
    "### The `break` keyword"
   ]
  },
  {
   "cell_type": "code",
   "execution_count": null,
   "metadata": {
    "slideshow": {
     "slide_type": "fragment"
    }
   },
   "outputs": [],
   "source": [
    "for x in [1,2,3,4,5,6,7,8]:\n",
    "    if x==7:\n",
    "        break\n",
    "    else:\n",
    "        print(x)\n",
    "    "
   ]
  },
  {
   "cell_type": "markdown",
   "metadata": {
    "slideshow": {
     "slide_type": "notes"
    }
   },
   "source": [
    "A complimentary concept is that of `continue`. Using `continue`, you can return control to the outer control loop instantly, bypassing the rest of the associated code block. For example, maybe you want to skip the value 4 but continue processing the rest of the values in the list. You could do that by checking against the value 4, and continuing the outer for loop if you've reached it. For example:"
   ]
  },
  {
   "cell_type": "markdown",
   "metadata": {
    "slideshow": {
     "slide_type": "slide"
    }
   },
   "source": [
    "### The `continue` keyword"
   ]
  },
  {
   "cell_type": "code",
   "execution_count": null,
   "metadata": {
    "slideshow": {
     "slide_type": "fragment"
    }
   },
   "outputs": [],
   "source": [
    "for x in [1,2,3,4,5,6,7,8]:\n",
    "    if x==4:\n",
    "        print(\"Here is Number 4\")\n",
    "        continue\n",
    "    print(x)\n",
    "    "
   ]
  },
  {
   "cell_type": "code",
   "execution_count": null,
   "metadata": {},
   "outputs": [],
   "source": [
    "for x in range(0,101):\n",
    "    if x % 2 == 0:\n",
    "        print(x)\n",
    "        "
   ]
  },
  {
   "cell_type": "markdown",
   "metadata": {
    "slideshow": {
     "slide_type": "slide"
    }
   },
   "source": [
    "# Exercise\n",
    "# Get your feet wet\n",
    "\n",
    "1. Assign a list of any integers you like to a variable called `my_list`. Use a for loop to iterate through that list, printing out the result of each integer plus 1.\n",
    "2. Make a NEW list full of any data you like. Create a while loop that checks that the length of that list is greater than zero, and then calls the `pop` **method** with no arguments on that list during each while loop.\n",
    "  - Check what the value of your list once this is done! Why do you think that is? What does the `pop` method do?\n",
    "3. Write an `if` statement that checks for equality between `4` and `4.0`, and prints a string if so (maybe fill the string with a compliment to yourself!). Write it again but check for object identity between `4` and `4.0` in the `if` condition instead."
   ]
  },
  {
   "cell_type": "markdown",
   "metadata": {
    "slideshow": {
     "slide_type": "notes"
    }
   },
   "source": [
    "# Time to write our OWN functions!\n",
    "\n",
    "Alright, now it's going to get really good. We've learned about data types, about built-in functions and methods, about comparisons and about control flow. Now we can start writing our own functions that will represent reusable pieces of logic that we can parameterize with different arguments!!\n",
    "\n",
    "The syntax for defining a function is below. Basically you need to have a name of the function (so you can call it later), and names for each of the arguments you're expecting to get passed so you can use them as placeholders for the body of your function. The name and arguments of a function are known as its **signature**. The code block associated with a given signature is the **function body**."
   ]
  },
  {
   "cell_type": "markdown",
   "metadata": {
    "slideshow": {
     "slide_type": "slide"
    }
   },
   "source": [
    "## Tour de Python ○○○●\n",
    "\n",
    "* writing function definitions\n",
    "* `return`s\n",
    "* writing scripts and executing them from the command line"
   ]
  },
  {
   "cell_type": "code",
   "execution_count": null,
   "metadata": {
    "slideshow": {
     "slide_type": "slide"
    }
   },
   "outputs": [],
   "source": [
    "def say_hello(greeting):\n",
    "    print(greeting)"
   ]
  },
  {
   "cell_type": "markdown",
   "metadata": {
    "slideshow": {
     "slide_type": "notes"
    }
   },
   "source": [
    "Now if we actually call the function we just defined and send it an argument for the `greeting` variable, it will execute the logic against that argument and print out the string we sent it:"
   ]
  },
  {
   "cell_type": "code",
   "execution_count": null,
   "metadata": {
    "slideshow": {
     "slide_type": "fragment"
    }
   },
   "outputs": [],
   "source": [
    "say_hello(\"hello!\")"
   ]
  },
  {
   "cell_type": "markdown",
   "metadata": {
    "slideshow": {
     "slide_type": "fragment"
    }
   },
   "source": [
    "# Anatomy of a function definition\n",
    "\n",
    "def <font color='orange'>function_namespace</font>(<font color=\"purple\">nickname_for_argument_one</font>, <font color=\"purple\">nickname_for_argument_two</font>, <font color=\"gray\">...</font>):<br>\n",
    "&nbsp;&nbsp;&nbsp;&nbsp;<font color='gray'>your_code_here</font><br>\n",
    "&nbsp;&nbsp;&nbsp;&nbsp;<font color='gray'>your_code_here</font><br>\n",
    "&nbsp;&nbsp;&nbsp;&nbsp;<font color='gray'>use </font><font color=\"purple\">nickname_for_argument</font><font color='gray'> in your code if you want</font><br>"
   ]
  },
  {
   "cell_type": "markdown",
   "metadata": {
    "slideshow": {
     "slide_type": "notes"
    }
   },
   "source": [
    "This has been danced around to you so far, but one thing that functions (or methods) must do is `return` a value. This way you can execute some action and receive the results of that action back, for use later. Once you `return` from a function, no more logic of that function is executed; so it is similar to `break` in that way. See below:"
   ]
  },
  {
   "cell_type": "code",
   "execution_count": null,
   "metadata": {
    "slideshow": {
     "slide_type": "slide"
    }
   },
   "outputs": [],
   "source": [
    "def plus_one(number):\n",
    "    \"\"\"\n",
    "    Adds one to any provided number\n",
    "    \n",
    "    Params\n",
    "    ------\n",
    "    number : int\n",
    "        Any number you want to add one to\n",
    "    \n",
    "    Returns\n",
    "    -------\n",
    "    new_number : int\n",
    "        A number derived from taking the input plus one\n",
    "    \"\"\"\n",
    "    new_number = number + 1\n",
    "    return new_number"
   ]
  },
  {
   "cell_type": "code",
   "execution_count": null,
   "metadata": {},
   "outputs": [],
   "source": [
    "plus_one(1)"
   ]
  },
  {
   "cell_type": "code",
   "execution_count": null,
   "metadata": {
    "slideshow": {
     "slide_type": "fragment"
    }
   },
   "outputs": [],
   "source": [
    "y = plus_one(1)"
   ]
  },
  {
   "cell_type": "code",
   "execution_count": null,
   "metadata": {
    "slideshow": {
     "slide_type": "fragment"
    }
   },
   "outputs": [],
   "source": [
    "y"
   ]
  },
  {
   "cell_type": "markdown",
   "metadata": {
    "slideshow": {
     "slide_type": "fragment"
    }
   },
   "source": [
    "# Anatomy of a function definition with return statement\n",
    "\n",
    "def <font color='orange'>function_namespace</font>(<font color=\"purple\">nickname_for_argument_one</font>, <font color=\"purple\">nickname_for_argument_two</font>, <font color=\"gray\">...</font>):<br>\n",
    "&nbsp;&nbsp;&nbsp;&nbsp;<font color='gray'>your_code_here</font><br>\n",
    "&nbsp;&nbsp;&nbsp;&nbsp;<font color='gray'>your_code_here</font><br>\n",
    "&nbsp;&nbsp;&nbsp;&nbsp;<font color='gray'>use__</font><font color=\"purple\">nickname_for_argument</font><font color='gray'>in_your_code_if_you_want</font><br>\n",
    "&nbsp;&nbsp;&nbsp;&nbsp;return <font color='gray'>whatever_you_want_to_return<br>"
   ]
  },
  {
   "cell_type": "markdown",
   "metadata": {
    "slideshow": {
     "slide_type": "notes"
    }
   },
   "source": [
    "Hopefully this toy example shows you how powerful it is to define functions and `return` values from them. You can pass around values `return`ed from one function into another function all the live long day!"
   ]
  },
  {
   "cell_type": "code",
   "execution_count": null,
   "metadata": {
    "slideshow": {
     "slide_type": "subslide"
    }
   },
   "outputs": [],
   "source": [
    "def minus_one(number):\n",
    "    return number-1"
   ]
  },
  {
   "cell_type": "code",
   "execution_count": null,
   "metadata": {
    "slideshow": {
     "slide_type": "fragment"
    }
   },
   "outputs": [],
   "source": [
    "p = plus_one(10)"
   ]
  },
  {
   "cell_type": "code",
   "execution_count": null,
   "metadata": {
    "slideshow": {
     "slide_type": "fragment"
    }
   },
   "outputs": [],
   "source": [
    "p"
   ]
  },
  {
   "cell_type": "code",
   "execution_count": null,
   "metadata": {
    "slideshow": {
     "slide_type": "fragment"
    }
   },
   "outputs": [],
   "source": [
    "m = minus_one(p)"
   ]
  },
  {
   "cell_type": "code",
   "execution_count": null,
   "metadata": {
    "slideshow": {
     "slide_type": "fragment"
    }
   },
   "outputs": [],
   "source": [
    "m"
   ]
  },
  {
   "cell_type": "markdown",
   "metadata": {
    "slideshow": {
     "slide_type": "slide"
    }
   },
   "source": [
    "If you do not specify an explicit `return` statement from within a function, by default it will return the value `None`:"
   ]
  },
  {
   "cell_type": "code",
   "execution_count": null,
   "metadata": {
    "slideshow": {
     "slide_type": "fragment"
    }
   },
   "outputs": [],
   "source": [
    "def no_return():\n",
    "    pass"
   ]
  },
  {
   "cell_type": "code",
   "execution_count": null,
   "metadata": {
    "slideshow": {
     "slide_type": "fragment"
    }
   },
   "outputs": [],
   "source": [
    "result = no_return()"
   ]
  },
  {
   "cell_type": "code",
   "execution_count": null,
   "metadata": {
    "slideshow": {
     "slide_type": "fragment"
    }
   },
   "outputs": [],
   "source": [
    "type(result)"
   ]
  },
  {
   "cell_type": "markdown",
   "metadata": {
    "slideshow": {
     "slide_type": "subslide"
    }
   },
   "source": [
    "Note, your code block can \"do something\" while still having no `return` statement, and thus not `return` anything!"
   ]
  },
  {
   "cell_type": "code",
   "execution_count": null,
   "metadata": {
    "slideshow": {
     "slide_type": "fragment"
    }
   },
   "outputs": [],
   "source": [
    "def also_no_return():\n",
    "    print(\"Howdy!!\")"
   ]
  },
  {
   "cell_type": "code",
   "execution_count": null,
   "metadata": {
    "slideshow": {
     "slide_type": "fragment"
    }
   },
   "outputs": [],
   "source": [
    "result = also_no_return()"
   ]
  },
  {
   "cell_type": "code",
   "execution_count": null,
   "metadata": {
    "slideshow": {
     "slide_type": "fragment"
    }
   },
   "outputs": [],
   "source": [
    "type(result)"
   ]
  },
  {
   "cell_type": "markdown",
   "metadata": {
    "slideshow": {
     "slide_type": "subslide"
    }
   },
   "source": [
    "The first `return` statement your code encounters in a function aborts execution of that function. Watch this example below!"
   ]
  },
  {
   "cell_type": "code",
   "execution_count": null,
   "metadata": {
    "slideshow": {
     "slide_type": "fragment"
    }
   },
   "outputs": [],
   "source": [
    "def return_before_saying_goodbye():\n",
    "    print(\"hello!\")\n",
    "    return 1\n",
    "    print(\"goodbye!\")"
   ]
  },
  {
   "cell_type": "code",
   "execution_count": null,
   "metadata": {
    "slideshow": {
     "slide_type": "fragment"
    }
   },
   "outputs": [],
   "source": [
    "return_before_saying_goodbye()"
   ]
  },
  {
   "cell_type": "markdown",
   "metadata": {
    "slideshow": {
     "slide_type": "slide"
    }
   },
   "source": [
    "# Writing Scripts ⇢\n",
    "\n",
    "* Scripts are stored in files ending in `.py` and contain Python code. ⇢\n",
    "* You can execute them on the command line with `python path/to/script.py`. ⇢\n",
    "   * This will no longer drop you into an interactive shell, but instead evaluate all of the Python logic inside that `script.py`. ⇢"
   ]
  },
  {
   "cell_type": "markdown",
   "metadata": {
    "slideshow": {
     "slide_type": "slide"
    }
   },
   "source": [
    "# Pair Programming Exercises!\n",
    "\n",
    "- Define a function `which_is_smaller()` that takes two numbers as arguments and returns the smallest of them. **I will demo this one*\n",
    "- Write a function that takes a lowercase character (i.e. a string of length 1) and returns `True` if it is a vowel, `False` otherwise.\n",
    "- Write a function that takes a list of words. It should count the lengths of each of the words in the argument, and return a list of integers of the lengths of the corresponding input words.\n",
    "- Write a function capable of generating all the verses of the song “99 Bottles of Beer on the Wall”."
   ]
  },
  {
   "cell_type": "code",
   "execution_count": null,
   "metadata": {},
   "outputs": [],
   "source": []
  },
  {
   "cell_type": "markdown",
   "metadata": {
    "slideshow": {
     "slide_type": "slide"
    }
   },
   "source": [
    "# Python for Data Analytics"
   ]
  },
  {
   "cell_type": "markdown",
   "metadata": {
    "slideshow": {
     "slide_type": "slide"
    }
   },
   "source": [
    "# Tour de Python Level 2 ●○○○\n",
    "\n",
    "* Python `stdlib`\n",
    "* `import` syntax\n",
    "* Python packages"
   ]
  },
  {
   "cell_type": "markdown",
   "metadata": {
    "slideshow": {
     "slide_type": "subslide"
    }
   },
   "source": [
    "## built-in Python\n",
    "\n",
    "* Everything we've talked about so far is referred to as part of the Python \"built-in\"s\n",
    "* Every Python session has access to everything we've learned no matter what\n",
    "* The built-ins are general purpose building blocks: \"primitive\" data types (like strings, integers, dictionaries), control flow statements, basic operators, etc"
   ]
  },
  {
   "cell_type": "code",
   "execution_count": null,
   "metadata": {},
   "outputs": [],
   "source": []
  },
  {
   "cell_type": "markdown",
   "metadata": {
    "slideshow": {
     "slide_type": "subslide"
    }
   },
   "source": [
    "## moving on (briefly) to the Python `stdlib`\n",
    "\n",
    "* every Python installation also comes with special data types, operators, functions, and methods to address specific types of problems\n",
    "    * ex. `datetime` for storing time data that are cognizant of year/month/day/timezone\n",
    "* by default these are not loaded into each Python session, but instead have to be **imported**\n",
    "* `stdlib` = \"standard library\""
   ]
  },
  {
   "cell_type": "markdown",
   "metadata": {
    "slideshow": {
     "slide_type": "subslide"
    }
   },
   "source": [
    "## Python modules\n",
    "\n",
    "* any `.py` file can also be referred to as a \"Python module\"\n",
    "* modules can be imported using one of four styles of import syntax. here's one of them:"
   ]
  },
  {
   "cell_type": "code",
   "execution_count": null,
   "metadata": {
    "slideshow": {
     "slide_type": "fragment"
    }
   },
   "outputs": [],
   "source": [
    "import math"
   ]
  },
  {
   "cell_type": "code",
   "execution_count": null,
   "metadata": {},
   "outputs": [],
   "source": []
  },
  {
   "cell_type": "markdown",
   "metadata": {
    "slideshow": {
     "slide_type": "fragment"
    }
   },
   "source": [
    "* the list of modules already accessible to any vanilla Python installation because they are in the `stdlib` are listed online at https://docs.python.org/3/library/ ⇢\n",
    "* importing a module makes its code definitions accessible in whatever environment they are being imported to"
   ]
  },
  {
   "cell_type": "markdown",
   "metadata": {
    "slideshow": {
     "slide_type": "subslide"
    }
   },
   "source": [
    "## Variants of import syntax and namespaces\n",
    "\n",
    "* Python provides 3 styles of import syntax that affect the namespacing of the imported module and its members\n"
   ]
  },
  {
   "cell_type": "code",
   "execution_count": null,
   "metadata": {
    "slideshow": {
     "slide_type": "subslide"
    }
   },
   "outputs": [],
   "source": [
    "import math\n",
    "math.cos(5)"
   ]
  },
  {
   "cell_type": "markdown",
   "metadata": {
    "slideshow": {
     "slide_type": "fragment"
    }
   },
   "source": [
    "## Anatomy of import syntax 1\n",
    "\n",
    "<p><b>if import syntax is:</b></p>\n",
    "<p><font color=green>import</font> <font color=orange>module_name</font></p>\n",
    "\n",
    "<p><b>then call syntax is:</b></p>\n",
    "<p><font color=orange>module_name</font>.<font color=blue>member_name</font></p>"
   ]
  },
  {
   "cell_type": "code",
   "execution_count": null,
   "metadata": {
    "slideshow": {
     "slide_type": "subslide"
    }
   },
   "outputs": [],
   "source": [
    "import math as m\n",
    "m.ceil(5)"
   ]
  },
  {
   "cell_type": "markdown",
   "metadata": {
    "slideshow": {
     "slide_type": "fragment"
    }
   },
   "source": [
    "## Anatomy of import syntax 2\n",
    "\n",
    "<p><b>if import syntax is:</b></p>\n",
    "<p><font color=green>import</font> <font color=orange>module_name</font> <font color=green>as</font> <font color=goldenrod>alias</font></p>\n",
    "\n",
    "<p><b>then call syntax is:</b></p>\n",
    "<p><font color=goldenrod>alias</font>.<font color=blue>member_name</font></p>"
   ]
  },
  {
   "cell_type": "code",
   "execution_count": null,
   "metadata": {
    "slideshow": {
     "slide_type": "subslide"
    }
   },
   "outputs": [],
   "source": [
    "from math import cos\n",
    "cos(5)"
   ]
  },
  {
   "cell_type": "markdown",
   "metadata": {
    "slideshow": {
     "slide_type": "fragment"
    }
   },
   "source": [
    "## Anatomy of import syntax 3\n",
    "\n",
    "<p><b>if import syntax is:</b></p>\n",
    "<p><font color=green>from</font> <font color=orange>module_name</font> <font color=green>import</font> <font color=blue>member_name</font>, <font color=grey>...</font></p>\n",
    "\n",
    "<p><b>then call syntax is:</b></p>\n",
    "<p><font color=blue>member_name</font></p>"
   ]
  },
  {
   "cell_type": "markdown",
   "metadata": {
    "slideshow": {
     "slide_type": "subslide"
    }
   },
   "source": [
    "## `stdlib` greatest hits\n",
    "\n",
    "* `datetime`\n",
    "* `random.seed`, `random.random`\n",
    "* `os.path.exists`, `os.path.join`, `os.path.abspath`\n",
    "* `csv.reader`, `csv.DictReader`\n",
    "* `csv.writer`\n",
    "* `json.loads`, `json.dumps`"
   ]
  },
  {
   "cell_type": "markdown",
   "metadata": {
    "slideshow": {
     "slide_type": "subslide"
    }
   },
   "source": [
    "## Get your feet wet\n",
    "\n",
    "In the Python interpreter, try using the 3 different styles of import syntax to import the following **functions**, and call them properly based on the type of import syntax you used. You will need to exit and re-enter your python session to clear your prior import syntax each time.\n",
    "\n",
    "* `random.random`\n",
    "* `os.getcwd`"
   ]
  },
  {
   "cell_type": "code",
   "execution_count": null,
   "metadata": {},
   "outputs": [],
   "source": [
    "import os"
   ]
  },
  {
   "cell_type": "code",
   "execution_count": null,
   "metadata": {},
   "outputs": [],
   "source": []
  },
  {
   "cell_type": "markdown",
   "metadata": {
    "slideshow": {
     "slide_type": "slide"
    }
   },
   "source": [
    "## Going past the `stdlib`\n",
    "\n",
    "* remember: the `stdlib` is maintained by the Python Software Foundation and comes with every installation of Python\n",
    "* other members of the Python community write their own extensions to the Python built-ins called **packages**\n",
    "    * usually they are even more specialized than modules in the `stdlib`"
   ]
  },
  {
   "cell_type": "markdown",
   "metadata": {
    "slideshow": {
     "slide_type": "subslide"
    }
   },
   "source": [
    "## Introducing our data analysis packages\n",
    "\n",
    "* **Pandas**\n",
    "   * used for processing tabular data\n",
    "   * core data type is the `DataFrame`\n",
    "   * port of R's DataFrame paradigm\n",
    "* **Matplotlib**\n",
    "   * used to generate charts such as histograms or box plots from Python data structures\n",
    "   * port of MATLAB's charting functionalilty"
   ]
  },
  {
   "cell_type": "markdown",
   "metadata": {
    "slideshow": {
     "slide_type": "subslide"
    }
   },
   "source": [
    "## ~~Installing~~ python packages\n",
    "\n",
    "* lucky you - you don't have to! For this class, since we used the Anaconda distribution of Python, the python packages we want to use are already installed!\n",
    "    * the full list for your installation can be found at https://docs.anaconda.com/anaconda/packages/pkg-docs ⇢\n",
    "* more generally: there are many ways to find and download community-supported Python extensions, but the most popular way is via a *package manager* that downloads from PyPI at https://pypi.python.org/pypi ⇢\n",
    "    * popular *package managers* include `pip`, `pipenv`, and `conda`"
   ]
  }
 ],
 "metadata": {
  "kernelspec": {
   "display_name": "Python 3",
   "language": "python",
   "name": "python3"
  },
  "language_info": {
   "codemirror_mode": {
    "name": "ipython",
    "version": 3
   },
   "file_extension": ".py",
   "mimetype": "text/x-python",
   "name": "python",
   "nbconvert_exporter": "python",
   "pygments_lexer": "ipython3",
   "version": "3.8.0"
  }
 },
 "nbformat": 4,
 "nbformat_minor": 4
}
