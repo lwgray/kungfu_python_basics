{
 "cells": [
  {
   "cell_type": "markdown",
   "metadata": {},
   "source": [
    "## Solutions to Seminar 2 Exercises"
   ]
  },
  {
   "cell_type": "markdown",
   "metadata": {},
   "source": [
    "### Exercise 1"
   ]
  },
  {
   "cell_type": "markdown",
   "metadata": {},
   "source": [
    "1. Assign a list of any integers you like to a variable called my_list. \n",
    "2. Use a for loop to iterate through that list\n",
    "3. Print out the result of each integer plus 1.\n"
   ]
  },
  {
   "cell_type": "code",
   "execution_count": null,
   "metadata": {},
   "outputs": [],
   "source": [
    "my_list = [1,2,3,4]\n",
    "for item in my_list:\n",
    "    print(item + 1)"
   ]
  },
  {
   "cell_type": "markdown",
   "metadata": {},
   "source": [
    "### Exercise 2"
   ]
  },
  {
   "cell_type": "markdown",
   "metadata": {},
   "source": [
    "1. Make a NEW list full of any data you like. \n",
    "2. Create a while loop that checks that the length of that list is greater than zero.\n",
    "3. Then calls the pop method with no arguments on that list during each while loop.\n",
    "4. Check what the value of your list once this is done!\n",
    "5. Why do you think that is?\n",
    "6. What does the pop method do?"
   ]
  },
  {
   "cell_type": "code",
   "execution_count": null,
   "metadata": {},
   "outputs": [],
   "source": [
    "new_list = ['boy', 'girl', 'mom', 'dad', 'cat']\n",
    "while len(new_list) > 0:\n",
    "    new_list.pop()\n",
    "print(new_list)\n",
    "# It is empty because the pop method removes an item from the new_list during each loop until nothing remains in the new_list"
   ]
  },
  {
   "cell_type": "markdown",
   "metadata": {},
   "source": [
    "### Exercise 3"
   ]
  },
  {
   "cell_type": "markdown",
   "metadata": {},
   "source": [
    "1. Write an if statement that checks for equality between 4 and 4.0 and\n",
    "2. prints a string if so (maybe fill the string with a compliment to yourself!). \n",
    "3. Write if statement again but check for object identity between 4 and 4.0 in the if condition instead.\n"
   ]
  },
  {
   "cell_type": "code",
   "execution_count": null,
   "metadata": {},
   "outputs": [],
   "source": [
    "if 4 == 4.0:\n",
    "    print('We are equal')\n",
    "if 4 is 4.0:\n",
    "    print('We are identical')"
   ]
  },
  {
   "cell_type": "markdown",
   "metadata": {},
   "source": [
    "### Exercise 4"
   ]
  },
  {
   "cell_type": "markdown",
   "metadata": {},
   "source": [
    "Define a function which_is_smaller() that takes two numbers as arguments and returns the smallest of them. "
   ]
  },
  {
   "cell_type": "code",
   "execution_count": null,
   "metadata": {},
   "outputs": [],
   "source": [
    "#solution 1\n",
    "def which_is_smaller(num_1, num_2):\n",
    "    return min(num_1, num_2)\n",
    "\n",
    "print(which_is_smaller(2,3))"
   ]
  },
  {
   "cell_type": "code",
   "execution_count": null,
   "metadata": {},
   "outputs": [],
   "source": [
    "#solution 2\n",
    "def which_is_smaller(num_1, num_2):\n",
    "    if num_1 < num_2:\n",
    "        return num_1\n",
    "    else:\n",
    "        return num_2\n",
    "\n",
    "print(which_is_smaller(2,3))"
   ]
  },
  {
   "cell_type": "markdown",
   "metadata": {},
   "source": [
    "### Exercise 5"
   ]
  },
  {
   "cell_type": "markdown",
   "metadata": {},
   "source": [
    "Write a function that takes a lowercase character (i.e. a string of length 1) and returns True if it is a vowel, False otherwise."
   ]
  },
  {
   "cell_type": "code",
   "execution_count": null,
   "metadata": {},
   "outputs": [],
   "source": [
    "#solution 1\n",
    "def lowercase(letter):\n",
    "    if letter in ['a', 'e', 'i', 'o', 'u']:\n",
    "        return True\n",
    "    else:\n",
    "        return False\n",
    "\n",
    "print(lowercase('a'))\n",
    "print(lowercase('b'))"
   ]
  },
  {
   "cell_type": "code",
   "execution_count": null,
   "metadata": {},
   "outputs": [],
   "source": [
    "#solution 2\n",
    "vowels = ['a', 'e', 'i', 'o', 'u']\n",
    "def lowercase(letter):\n",
    "    for vowel in ['a', 'e', 'i', 'o', 'u']:\n",
    "        if letter == vowel:\n",
    "            return True\n",
    "    return False\n",
    "\n",
    "print(lowercase('a'))\n",
    "print(lowercase('b'))"
   ]
  },
  {
   "cell_type": "markdown",
   "metadata": {},
   "source": [
    "### Exercise 6"
   ]
  },
  {
   "cell_type": "markdown",
   "metadata": {},
   "source": [
    "Write a function that takes a list of words. \n",
    "It should count the lengths of each of the words in the argument\n",
    "and return a list of integers of the lengths of the corresponding input words."
   ]
  },
  {
   "cell_type": "code",
   "execution_count": null,
   "metadata": {},
   "outputs": [],
   "source": [
    "# solution 1\n",
    "def length_of_words(list_of_words):\n",
    "    list_len_words = []\n",
    "    for word in list_of_words:\n",
    "        list_len_words.append(len(word))\n",
    "    return list_len_words\n",
    "\n",
    "length_of_words(['boy', 'dog', 'cat', 'home'])"
   ]
  },
  {
   "cell_type": "code",
   "execution_count": null,
   "metadata": {},
   "outputs": [],
   "source": [
    "# solution 2 without function\n",
    "list_of_words = ['boy', 'dog', 'cat', 'home']\n",
    "list_len_words = [len(word) for word in list_of_words] # this is a list comprehension\n",
    "print(list_len_words)"
   ]
  },
  {
   "cell_type": "markdown",
   "metadata": {},
   "source": [
    "### Exercise 7"
   ]
  },
  {
   "cell_type": "markdown",
   "metadata": {},
   "source": [
    "Write a function capable of generating all the verses of the song “99 Bottles of Beer on the Wall”."
   ]
  },
  {
   "cell_type": "code",
   "execution_count": null,
   "metadata": {},
   "outputs": [],
   "source": [
    "# solution 1\n",
    "def beer_on_the_wall(num_bottles):\n",
    "    while num_bottles > 0:\n",
    "        print(num_bottles, \"bottles of beer on the wall\", num_bottles, \"bottles of beer......\")\n",
    "        num_bottles = num_bottles - 1\n",
    "    return\n",
    "beer_on_the_wall(5)"
   ]
  },
  {
   "cell_type": "code",
   "execution_count": null,
   "metadata": {},
   "outputs": [],
   "source": [
    "# solution 2 - Utilizes f strings and \"-=\" operator\n",
    "def beer_on_the_wall(num_bottles):\n",
    "    while num_bottles > 0:\n",
    "        print(f'{num_bottles} bottles of beer on the wall {num_bottles} bottles of beer......')\n",
    "        num_bottles -= 1\n",
    "    return\n",
    "beer_on_the_wall(5)"
   ]
  },
  {
   "cell_type": "code",
   "execution_count": null,
   "metadata": {},
   "outputs": [],
   "source": []
  }
 ],
 "metadata": {
  "kernelspec": {
   "display_name": "Python 3",
   "language": "python",
   "name": "python3"
  },
  "language_info": {
   "codemirror_mode": {
    "name": "ipython",
    "version": 3
   },
   "file_extension": ".py",
   "mimetype": "text/x-python",
   "name": "python",
   "nbconvert_exporter": "python",
   "pygments_lexer": "ipython3",
   "version": "3.7.0"
  }
 },
 "nbformat": 4,
 "nbformat_minor": 4
}
