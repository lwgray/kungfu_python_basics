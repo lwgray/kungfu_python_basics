{
 "cells": [
  {
   "cell_type": "code",
   "execution_count": null,
   "metadata": {},
   "outputs": [],
   "source": []
  },
  {
   "cell_type": "markdown",
   "metadata": {
    "slideshow": {
     "slide_type": "notes"
    }
   },
   "source": [
    "jupyter nbconvert Seminar_1.ipynb --to slides --reveal-prefix=https://cdnjs.cloudflare.com/ajax/libs/reveal.js/3.5.0 --post serve"
   ]
  },
  {
   "cell_type": "markdown",
   "metadata": {
    "slideshow": {
     "slide_type": "notes"
    }
   },
   "source": [
    "# Welcome to Python 3!\n",
    "\n",
    "It's time to learn some Python! Let's start thinking about some programming concepts. But first, how do we use this \"Jupyter Notebook\"?\n",
    "\n",
    "\"Jupyter Notebook\" is a program that runs several different **interpreters** in one browser-based interface. It can interpret plain text; it can interpret Markdown, which these directions are written in; and most importantly it can interpret Python. The **Python interpreter** or **kernel** is running behind the scenes, waiting for us to run Python code in cells that look like this:"
   ]
  },
  {
   "cell_type": "markdown",
   "metadata": {
    "slideshow": {
     "slide_type": "slide"
    }
   },
   "source": [
    "## Your first Python"
   ]
  },
  {
   "cell_type": "markdown",
   "metadata": {
    "slideshow": {
     "slide_type": "notes"
    }
   },
   "source": [
    "When we put some actual Python syntax in one of these **code cells** and ask Jupyter Notebook to run it, we'll see an output line that shows us the results of our Python code, like so:"
   ]
  },
  {
   "cell_type": "code",
   "execution_count": null,
   "metadata": {
    "slideshow": {
     "slide_type": "fragment"
    }
   },
   "outputs": [],
   "source": [
    "print(\"hello!\")"
   ]
  },
  {
   "cell_type": "markdown",
   "metadata": {
    "slideshow": {
     "slide_type": "notes"
    }
   },
   "source": [
    "What the **Python interpreter** just did there actually contains a lot of programming concepts. What happened?\n",
    "\n",
    "First off, you'll see that some of the characters are highlighted green and some red. This is **syntax highlighting**. Python is written with a specific syntax; some characters and words are reserved with a special meaning to the interpreter, and this Jupyter Notebook will help us out by highlighting them in a standard way. In this case, both the word \"print\" is highlighted green and the characters \"hello!\" are highlighted red. \n",
    "\n",
    "So what exactly is going on here?\n",
    "\n",
    "``print()`` is a **function** that will output whatever is inside the parentheses to the output source of the process; in the case of a Jupyter Notebook, into the output line below a code cell. The syntax for a function always is first the name of the function; then open parens; then a comma delimited list of **arguments**; then a closing parens. In our case, we gave as the **argument** to the ``print()`` **function** the sequence of characters ``\"hello\"``. So we were essentially telling the Python interpreter, \"I want you do to the action print on the characters h-e-l-l-o\"."
   ]
  },
  {
   "cell_type": "markdown",
   "metadata": {
    "slideshow": {
     "slide_type": "notes"
    }
   },
   "source": [
    "You can send multiple arguments at once separated by commas; how they are used depends on the function. In the case of ``print()`` you can specify multiple arguments and they will all be printed to the screen with a space separating each one."
   ]
  },
  {
   "cell_type": "code",
   "execution_count": null,
   "metadata": {
    "slideshow": {
     "slide_type": "fragment"
    }
   },
   "outputs": [],
   "source": [
    "print(\"hello\", \"and\", \"goodbye!\")"
   ]
  },
  {
   "cell_type": "markdown",
   "metadata": {},
   "source": [
    "## len function\n",
    "The len function counts the number of items contained within a data type\n",
    "\n",
    "Regarding strings, `len` counts the number of characters"
   ]
  },
  {
   "cell_type": "code",
   "execution_count": null,
   "metadata": {},
   "outputs": [],
   "source": [
    "len(\"goodbye!\")"
   ]
  },
  {
   "cell_type": "markdown",
   "metadata": {},
   "source": [
    "## input function\n",
    "Allows to record user input"
   ]
  },
  {
   "cell_type": "code",
   "execution_count": null,
   "metadata": {},
   "outputs": [],
   "source": [
    "input('What is your name?')"
   ]
  },
  {
   "cell_type": "markdown",
   "metadata": {
    "slideshow": {
     "slide_type": "subslide"
    }
   },
   "source": [
    "# Anatomy of a function call\n",
    "<font color='green'>function_namespace</font>(<font color='blue'>argument</font>,<font color='blue'>argument</font>, <font color='blue'>argument</font>, <font color=\"gray\">...</font>)\n",
    "\n",
    "* <font color='green'>function_namespace</font> has a valid namespace - starts with an alphabetical character, no spaces, no special characters except underscores\n",
    "* individual <font color='blue'>argument</font> items are separated by commas\n",
    "* note the open and closing paretheses around the arguments"
   ]
  },
  {
   "cell_type": "markdown",
   "metadata": {
    "slideshow": {
     "slide_type": "slide"
    }
   },
   "source": [
    "# Your first Python protips\n",
    "\n",
    "* SPACING matters\n",
    "* CASE matters\n",
    "* ALL MINUTE DETAILS RELATED TO SYNTAX matter"
   ]
  },
  {
   "cell_type": "code",
   "execution_count": null,
   "metadata": {},
   "outputs": [],
   "source": [
    "print('helloworld')"
   ]
  },
  {
   "cell_type": "code",
   "execution_count": null,
   "metadata": {},
   "outputs": [],
   "source": [
    "Print('helloworld')"
   ]
  },
  {
   "cell_type": "markdown",
   "metadata": {
    "slideshow": {
     "slide_type": "notes"
    }
   },
   "source": [
    "Here is our first lesson on Python syntax. Syntax is VERY important, because the computer only understands EXACTLY what you tell it to, in the terms it understands. If you mess up the syntax even a little bit, you'll get long error messages that end in the complaint `SyntaxError`. If you see a `SyntaxError`, you know something is up! Python is very picky about **spacing** and **case**, so be on the lookout for those types of errors. You'll want to get used to seeing errors because A) they will happen often and B) once you know how to read them, you can easily debug a lot of Python programs!"
   ]
  },
  {
   "cell_type": "code",
   "execution_count": null,
   "metadata": {
    "slideshow": {
     "slide_type": "slide"
    }
   },
   "outputs": [],
   "source": [
    "print('hello')\n",
    "print(\"goodbye!\""
   ]
  },
  {
   "cell_type": "markdown",
   "metadata": {
    "slideshow": {
     "slide_type": "fragment"
    }
   },
   "source": [
    "# Anatomy of a traceback\n",
    "<p><font color='teal'>File</font> <font color='green'>path</font><font color='teal'>, line </font><font color='green'> number</font></p>\n",
    "<p>&nbsp;&nbsp;&nbsp;&nbsp;<font color='maroon'>line we got stuck on</font></p>\n",
    "<p>&nbsp;&nbsp;&nbsp;&nbsp;&nbsp;&nbsp;&nbsp;&nbsp;&nbsp;&nbsp;&nbsp;&nbsp;&nbsp;&nbsp;&nbsp;&nbsp;&nbsp;&nbsp;&nbsp;&nbsp;&nbsp;&nbsp;&nbsp;&nbsp;<font color=\"teal\">^ indicator of where we got stuck</font></p>\n",
    "   \n",
    "<p><font color='maroon'>error type: </font><font color='teal'>error message</font></p>"
   ]
  },
  {
   "cell_type": "code",
   "execution_count": null,
   "metadata": {
    "slideshow": {
     "slide_type": "fragment"
    }
   },
   "outputs": [],
   "source": [
    "print(\"hello\", 'goodbye')"
   ]
  },
  {
   "cell_type": "markdown",
   "metadata": {
    "slideshow": {
     "slide_type": "notes"
    }
   },
   "source": [
    "So back to this line in particular. We talked about how `print` is a reserved word in Python because it represents the ``print()`` function, which does the action of printing its arguments to the interpreter output location. What about ``\"hello!\"`` or ``\"goodbye!\"``? Why are these highlighted red?\n",
    "\n",
    "Characters encased in double quotes (``\"\"``) or single quotes (``''``) are of a special type of syntax that indicates the contents of the quotes are of the **data type** **string**. \n",
    "\n",
    "So, data types: Data you give to the Python interpreter has to be of some **data type** so the Python interpreter knows what type of operations it can perform on it. The **string** data type represents the literal sequence of characters inside the quotation marks. \n",
    "\n",
    "Here's the classic example to elucidate the point:"
   ]
  },
  {
   "cell_type": "code",
   "execution_count": null,
   "metadata": {
    "slideshow": {
     "slide_type": "slide"
    }
   },
   "outputs": [],
   "source": [
    "5 + 5"
   ]
  },
  {
   "cell_type": "code",
   "execution_count": null,
   "metadata": {
    "slideshow": {
     "slide_type": "fragment"
    }
   },
   "outputs": [],
   "source": [
    "\"5\" + \"5\""
   ]
  },
  {
   "cell_type": "markdown",
   "metadata": {
    "slideshow": {
     "slide_type": "fragment"
    }
   },
   "source": [
    "# Literals\n",
    "\n",
    "* a specific way of writing something to indicate its data type to the Python interpreter"
   ]
  },
  {
   "cell_type": "markdown",
   "metadata": {
    "slideshow": {
     "slide_type": "notes"
    }
   },
   "source": [
    "Inside the quotes, the digit 5 is a string, which means it should be treated as a literal sequence of characters.\n",
    "\n",
    "Outside the quotes, the digit 5 is the data type **integer**.\n",
    "\n",
    "Addition between strings just **concatenates** them. Addition between integers actually does mathematical addition.\n",
    "\n",
    "You and I as humans can look at the digit 5 and make an inference that we should treat it as a number and do mathmatical addition when we use the addition operator between them, but the Python interpreter is limited to the interpretation of the data type.\n",
    "\n",
    "You can discover what data type a piece of data is by using the ``type()`` function:"
   ]
  },
  {
   "cell_type": "code",
   "execution_count": null,
   "metadata": {
    "slideshow": {
     "slide_type": "subslide"
    }
   },
   "outputs": [],
   "source": [
    "type(5)"
   ]
  },
  {
   "cell_type": "code",
   "execution_count": null,
   "metadata": {
    "slideshow": {
     "slide_type": "fragment"
    }
   },
   "outputs": [],
   "source": [
    "type(\"5\")"
   ]
  },
  {
   "cell_type": "code",
   "execution_count": null,
   "metadata": {},
   "outputs": [],
   "source": [
    "print(\"int   --> integer\")\n",
    "print(\"str   --> string\")\n",
    "print(\"float --> float\")\n",
    "print(\"bool  --> boolean\")"
   ]
  },
  {
   "cell_type": "markdown",
   "metadata": {
    "slideshow": {
     "slide_type": "fragment"
    }
   },
   "source": [
    "# Literals\n",
    "\n",
    "* an unadorned digit is the literal form for data of type integer (`int`)\n",
    "* any character encased in single or double quotes is a literal form for data of type string (`str`)"
   ]
  },
  {
   "cell_type": "code",
   "execution_count": null,
   "metadata": {
    "slideshow": {
     "slide_type": "subslide"
    }
   },
   "outputs": [],
   "source": [
    "type(5)"
   ]
  },
  {
   "cell_type": "code",
   "execution_count": null,
   "metadata": {
    "slideshow": {
     "slide_type": "fragment"
    }
   },
   "outputs": [],
   "source": [
    "5+5"
   ]
  },
  {
   "cell_type": "code",
   "execution_count": null,
   "metadata": {
    "slideshow": {
     "slide_type": "fragment"
    }
   },
   "outputs": [],
   "source": [
    "type(\"hello\")"
   ]
  },
  {
   "cell_type": "code",
   "execution_count": null,
   "metadata": {
    "slideshow": {
     "slide_type": "fragment"
    }
   },
   "outputs": [],
   "source": [
    "\"hello\"+\"hello\""
   ]
  },
  {
   "cell_type": "markdown",
   "metadata": {
    "slideshow": {
     "slide_type": "slide"
    }
   },
   "source": [
    "## Tour de Python ●○○○\n",
    "\n",
    "* functions ✔\n",
    "* tracebacks ✔\n",
    "* `str` ✔\n",
    "* `int` ✔\n",
    "* `float`\n",
    "* `bool`\n",
    "* type casting\n",
    "* truthiness and falsiness\n",
    "* assignment\n",
    "* methods\n",
    "* reading documentation"
   ]
  },
  {
   "cell_type": "code",
   "execution_count": null,
   "metadata": {
    "slideshow": {
     "slide_type": "slide"
    }
   },
   "outputs": [],
   "source": [
    "type(5)"
   ]
  },
  {
   "cell_type": "code",
   "execution_count": null,
   "metadata": {
    "slideshow": {
     "slide_type": "fragment"
    }
   },
   "outputs": [],
   "source": [
    "type(5.0)"
   ]
  },
  {
   "cell_type": "markdown",
   "metadata": {
    "slideshow": {
     "slide_type": "fragment"
    }
   },
   "source": [
    "# Numeric Literals\n",
    "\n",
    "There is more than one way to represent a number in Python. We will learn about two:\n",
    "\n",
    "* plain integer (`int`)\n",
    "* floating point numbers (`float`)"
   ]
  },
  {
   "cell_type": "code",
   "execution_count": null,
   "metadata": {
    "slideshow": {
     "slide_type": "subslide"
    }
   },
   "outputs": [],
   "source": [
    "type(29483987234)"
   ]
  },
  {
   "cell_type": "code",
   "execution_count": null,
   "metadata": {
    "slideshow": {
     "slide_type": "fragment"
    }
   },
   "outputs": [],
   "source": [
    "type(4.00000)"
   ]
  },
  {
   "cell_type": "code",
   "execution_count": null,
   "metadata": {
    "slideshow": {
     "slide_type": "fragment"
    }
   },
   "outputs": [],
   "source": [
    "type(\"29483987234\")"
   ]
  },
  {
   "cell_type": "code",
   "execution_count": null,
   "metadata": {
    "slideshow": {
     "slide_type": "fragment"
    }
   },
   "outputs": [],
   "source": [
    "type(\"4.00000\")"
   ]
  },
  {
   "cell_type": "markdown",
   "metadata": {
    "slideshow": {
     "slide_type": "notes"
    }
   },
   "source": [
    "# More Data Types\n",
    "\n",
    "There's many more data types than just **strings** and **integers**.\n",
    "\n",
    "For example, another numerical data type is the **float** data type. The syntax for representing a numerical digit as a float is to include a decimal point. With floats you can include fractional components of numerical data in the way you cannot with integer data:"
   ]
  },
  {
   "cell_type": "code",
   "execution_count": null,
   "metadata": {
    "slideshow": {
     "slide_type": "notes"
    }
   },
   "outputs": [],
   "source": [
    "print(3.3)"
   ]
  },
  {
   "cell_type": "code",
   "execution_count": null,
   "metadata": {
    "slideshow": {
     "slide_type": "notes"
    }
   },
   "outputs": [],
   "source": [
    "print(3.3+7.8)"
   ]
  },
  {
   "cell_type": "markdown",
   "metadata": {
    "slideshow": {
     "slide_type": "notes"
    }
   },
   "source": [
    "The syntax difference here between the float and the integer is the inclusion of the decimal point. For example, these two pieces of data, though to our eyes represent the same information, are of two different data types:"
   ]
  },
  {
   "cell_type": "code",
   "execution_count": null,
   "metadata": {
    "slideshow": {
     "slide_type": "notes"
    }
   },
   "outputs": [],
   "source": [
    "print(type(5))\n",
    "print(type(5.0))"
   ]
  },
  {
   "cell_type": "markdown",
   "metadata": {},
   "source": [
    "# Booleans"
   ]
  },
  {
   "cell_type": "markdown",
   "metadata": {
    "slideshow": {
     "slide_type": "notes"
    }
   },
   "source": [
    "Another simple data type is the boolean. Booleans represent truthness or falseness, and are represented by the reserved words `True` and `False`. That's capital T `True` and capital F `False`."
   ]
  },
  {
   "cell_type": "code",
   "execution_count": null,
   "metadata": {
    "slideshow": {
     "slide_type": "slide"
    }
   },
   "outputs": [],
   "source": [
    "False"
   ]
  },
  {
   "cell_type": "code",
   "execution_count": null,
   "metadata": {
    "slideshow": {
     "slide_type": "fragment"
    }
   },
   "outputs": [],
   "source": [
    "type(False)"
   ]
  },
  {
   "cell_type": "code",
   "execution_count": null,
   "metadata": {
    "slideshow": {
     "slide_type": "fragment"
    }
   },
   "outputs": [],
   "source": [
    "True"
   ]
  },
  {
   "cell_type": "code",
   "execution_count": null,
   "metadata": {
    "slideshow": {
     "slide_type": "fragment"
    }
   },
   "outputs": [],
   "source": [
    "type(True)"
   ]
  },
  {
   "cell_type": "markdown",
   "metadata": {
    "slideshow": {
     "slide_type": "fragment"
    }
   },
   "source": [
    "# Boolean literals\n",
    "\n",
    "* represent truthy-ness or falsey-ness. Will be useful later when we do comparison operations\n",
    "* note these are NOT STRINGS. These are reserved namespaces that have a special meaning to the Python interpreter"
   ]
  },
  {
   "cell_type": "markdown",
   "metadata": {
    "slideshow": {
     "slide_type": "notes"
    }
   },
   "source": [
    "Remember; if we wanted to represent the characters F-a-l-s-e for use as a string, we would need to put them in quotes. When they are written without those quotes, THAT is when they are of data type boolean."
   ]
  },
  {
   "cell_type": "code",
   "execution_count": null,
   "metadata": {
    "slideshow": {
     "slide_type": "subslide"
    }
   },
   "outputs": [],
   "source": [
    "type(False)"
   ]
  },
  {
   "cell_type": "code",
   "execution_count": null,
   "metadata": {
    "slideshow": {
     "slide_type": "fragment"
    }
   },
   "outputs": [],
   "source": [
    "type(\"False\")"
   ]
  },
  {
   "cell_type": "markdown",
   "metadata": {
    "slideshow": {
     "slide_type": "skip"
    }
   },
   "source": [
    "Data of one type can often be converted into data of another type using reserved functions such as ``float()``, ``int()``, or ``str()``. This seems most obvious between the numerical data types:"
   ]
  },
  {
   "cell_type": "code",
   "execution_count": null,
   "metadata": {
    "slideshow": {
     "slide_type": "slide"
    }
   },
   "outputs": [],
   "source": [
    "float(\"5\")"
   ]
  },
  {
   "cell_type": "code",
   "execution_count": null,
   "metadata": {
    "slideshow": {
     "slide_type": "fragment"
    }
   },
   "outputs": [],
   "source": [
    "type(float(5))"
   ]
  },
  {
   "cell_type": "markdown",
   "metadata": {
    "slideshow": {
     "slide_type": "fragment"
    }
   },
   "source": [
    "# Type casting\n",
    "\n",
    "* you can cast something of one type to another using casting functions like `float()`, `int()`, or `str()`\n",
    "* only certain types can be cast to other types\n",
    "* these functions **return** the transformed data"
   ]
  },
  {
   "cell_type": "code",
   "execution_count": null,
   "metadata": {
    "slideshow": {
     "slide_type": "subslide"
    }
   },
   "outputs": [],
   "source": [
    "int(5.0)"
   ]
  },
  {
   "cell_type": "code",
   "execution_count": null,
   "metadata": {
    "slideshow": {
     "slide_type": "fragment"
    }
   },
   "outputs": [],
   "source": [
    "int(5.6)"
   ]
  },
  {
   "cell_type": "markdown",
   "metadata": {
    "slideshow": {
     "slide_type": "fragment"
    }
   },
   "source": [
    "Casting from a higher precision data type (`float`) to a lower precision data type (`int`) results in loss of data."
   ]
  },
  {
   "cell_type": "markdown",
   "metadata": {
    "slideshow": {
     "slide_type": "notes"
    }
   },
   "source": [
    "And is not so hard to imagine between numerical types and the string type:"
   ]
  },
  {
   "cell_type": "markdown",
   "metadata": {
    "slideshow": {
     "slide_type": "subslide"
    }
   },
   "source": [
    "It works pretty \"intuitively\" for strings and booleans too."
   ]
  },
  {
   "cell_type": "code",
   "execution_count": null,
   "metadata": {
    "slideshow": {
     "slide_type": "fragment"
    }
   },
   "outputs": [],
   "source": [
    "str(5)"
   ]
  },
  {
   "cell_type": "code",
   "execution_count": null,
   "metadata": {
    "slideshow": {
     "slide_type": "fragment"
    }
   },
   "outputs": [],
   "source": [
    "str(5.0)"
   ]
  },
  {
   "cell_type": "code",
   "execution_count": null,
   "metadata": {
    "slideshow": {
     "slide_type": "fragment"
    }
   },
   "outputs": [],
   "source": [
    "str(True)"
   ]
  },
  {
   "cell_type": "code",
   "execution_count": null,
   "metadata": {
    "slideshow": {
     "slide_type": "fragment"
    }
   },
   "outputs": [],
   "source": [
    "str(False)"
   ]
  },
  {
   "cell_type": "markdown",
   "metadata": {
    "slideshow": {
     "slide_type": "notes"
    }
   },
   "source": [
    "BUT, it actually also works beteween numerical or string types and boolean types too! See here:"
   ]
  },
  {
   "cell_type": "markdown",
   "metadata": {
    "slideshow": {
     "slide_type": "slide"
    }
   },
   "source": [
    "## !!"
   ]
  },
  {
   "cell_type": "code",
   "execution_count": null,
   "metadata": {
    "slideshow": {
     "slide_type": "fragment"
    }
   },
   "outputs": [],
   "source": [
    "bool(1)"
   ]
  },
  {
   "cell_type": "code",
   "execution_count": null,
   "metadata": {
    "slideshow": {
     "slide_type": "fragment"
    }
   },
   "outputs": [],
   "source": [
    "bool(0)"
   ]
  },
  {
   "cell_type": "markdown",
   "metadata": {
    "slideshow": {
     "slide_type": "subslide"
    }
   },
   "source": [
    "# Truthiness and Falseiness\n",
    "\n",
    "Different values for certain data types are consider to be \"truthy\" or \"falsey\" and are convertable to booleans.\n",
    "In general: non-empty data types are true (numerical values other than 0, strings with characters in them), empty data types are false (numerical values of magnitude 0, empty strings)."
   ]
  },
  {
   "cell_type": "code",
   "execution_count": null,
   "metadata": {
    "slideshow": {
     "slide_type": "subslide"
    }
   },
   "outputs": [],
   "source": [
    "bool(\"hello!\")"
   ]
  },
  {
   "cell_type": "code",
   "execution_count": null,
   "metadata": {
    "slideshow": {
     "slide_type": "fragment"
    }
   },
   "outputs": [],
   "source": [
    "bool(\"\")"
   ]
  },
  {
   "cell_type": "code",
   "execution_count": null,
   "metadata": {
    "slideshow": {
     "slide_type": "subslide"
    }
   },
   "outputs": [],
   "source": [
    "bool(5.0)"
   ]
  },
  {
   "cell_type": "code",
   "execution_count": null,
   "metadata": {
    "slideshow": {
     "slide_type": "fragment"
    }
   },
   "outputs": [],
   "source": [
    "bool(0.0)"
   ]
  },
  {
   "cell_type": "markdown",
   "metadata": {
    "slideshow": {
     "slide_type": "skip"
    }
   },
   "source": [
    "So, different data in Python intrinsically has a truthiness or falsiness to it."
   ]
  },
  {
   "cell_type": "markdown",
   "metadata": {
    "slideshow": {
     "slide_type": "notes"
    }
   },
   "source": [
    "# Assignment\n",
    "\n",
    "It's getting annoying to keep referring to the integer `5` or the string `\"goodbye!\"` over and over again by typing it all out. We can get around that by **assigning** data to a **variable**. You can name your variables anything you like within some rules (e.g. can't start with a number, no special characters besides underscores) and assignment itself is done with the `=` operator. See below:"
   ]
  },
  {
   "cell_type": "markdown",
   "metadata": {
    "slideshow": {
     "slide_type": "slide"
    }
   },
   "source": [
    "## Assignment"
   ]
  },
  {
   "cell_type": "code",
   "execution_count": null,
   "metadata": {
    "slideshow": {
     "slide_type": "fragment"
    }
   },
   "outputs": [],
   "source": [
    "x = -5"
   ]
  },
  {
   "cell_type": "code",
   "execution_count": null,
   "metadata": {
    "scrolled": true,
    "slideshow": {
     "slide_type": "fragment"
    }
   },
   "outputs": [],
   "source": [
    "print(x)"
   ]
  },
  {
   "cell_type": "code",
   "execution_count": null,
   "metadata": {
    "slideshow": {
     "slide_type": "fragment"
    }
   },
   "outputs": [],
   "source": [
    "type(x)"
   ]
  },
  {
   "cell_type": "code",
   "execution_count": null,
   "metadata": {
    "slideshow": {
     "slide_type": "fragment"
    }
   },
   "outputs": [],
   "source": [
    "print(x+x)"
   ]
  },
  {
   "cell_type": "markdown",
   "metadata": {
    "slideshow": {
     "slide_type": "notes"
    }
   },
   "source": [
    "## Assignment\n",
    "\n",
    "* a single equal sign operator indicates \"assignment\" of the piece of data on the right to the namespace on the left\n",
    "* namespace rules apply - no spaces, starts with an alphabetical character, no special characters except underscores\n",
    "* from then on you can refer to the data on the right by the \"name\" you assigned it\n",
    "* the names are referred to as **variables**"
   ]
  },
  {
   "cell_type": "code",
   "execution_count": null,
   "metadata": {
    "slideshow": {
     "slide_type": "subslide"
    }
   },
   "outputs": [],
   "source": [
    "dogs_name = \"Luna\""
   ]
  },
  {
   "cell_type": "code",
   "execution_count": null,
   "metadata": {},
   "outputs": [],
   "source": [
    "dogs_name"
   ]
  },
  {
   "cell_type": "code",
   "execution_count": null,
   "metadata": {
    "slideshow": {
     "slide_type": "fragment"
    }
   },
   "outputs": [],
   "source": [
    "number_of_students_in_class = 24"
   ]
  },
  {
   "cell_type": "code",
   "execution_count": null,
   "metadata": {},
   "outputs": [],
   "source": [
    "number_of_students_in_class"
   ]
  },
  {
   "cell_type": "code",
   "execution_count": null,
   "metadata": {},
   "outputs": [],
   "source": [
    "name = input('What is your name?')\n",
    "print(\"This is my name:\", name)"
   ]
  },
  {
   "cell_type": "markdown",
   "metadata": {
    "slideshow": {
     "slide_type": "fragment"
    }
   },
   "source": [
    "## Variable naming conventions\n",
    "\n",
    "* all lowercase\n",
    "* underscores representing spaces\n",
    "* something human readable for the future humans in your life"
   ]
  },
  {
   "cell_type": "markdown",
   "metadata": {
    "slideshow": {
     "slide_type": "notes"
    }
   },
   "source": [
    "Assignment is very useful to be able to access pieces of data by a specific name at any time, instead of constantly writing them out. As we learn some more complicated data types, then write functions of our own, we'll see more and more how helpful assignment will be.\n",
    "\n",
    "It's usually best to name your variables something helpful for the humans who are going to read your code later. Our examples are just toy examples here, but conventionally variables are generally written all lowercase with underscores to represent spaces. For example:"
   ]
  },
  {
   "cell_type": "markdown",
   "metadata": {},
   "source": [
    "# F strings\n",
    "Simple way to format strings"
   ]
  },
  {
   "cell_type": "code",
   "execution_count": null,
   "metadata": {},
   "outputs": [],
   "source": [
    "print(\"My dog's name is\", dogs_name, \"and he likes to run\", 2, \"miles a day\")"
   ]
  },
  {
   "cell_type": "code",
   "execution_count": null,
   "metadata": {},
   "outputs": [],
   "source": [
    "f\"My dog {dogs_name} ate the bone\""
   ]
  },
  {
   "cell_type": "code",
   "execution_count": null,
   "metadata": {},
   "outputs": [],
   "source": [
    "f\"There are only {number_of_students_in_class} students in my class\""
   ]
  },
  {
   "cell_type": "code",
   "execution_count": null,
   "metadata": {},
   "outputs": [],
   "source": [
    "first_name = input('What is your first name?')"
   ]
  },
  {
   "cell_type": "code",
   "execution_count": null,
   "metadata": {},
   "outputs": [],
   "source": [
    "profession = input('What is your profession?')"
   ]
  },
  {
   "cell_type": "code",
   "execution_count": null,
   "metadata": {},
   "outputs": [],
   "source": [
    "affiliation = input('Where do you work?')"
   ]
  },
  {
   "cell_type": "code",
   "execution_count": null,
   "metadata": {},
   "outputs": [],
   "source": [
    "message = (f\"My name is {first_name}. \"\n",
    "          f\"I'm a {profession}. \"\n",
    "          f\"I work at {affiliation}. \")\n",
    "\n",
    "message"
   ]
  },
  {
   "cell_type": "markdown",
   "metadata": {
    "slideshow": {
     "slide_type": "notes"
    }
   },
   "source": [
    "# Functions part deux and introducing methods\n",
    "\n",
    "So, we briefly described **functions** and you have seen them in action a couple times. Let's revisit the concept and introduce a similar concept, **methods**.\n",
    "\n",
    "Functions and methods, in simple terms, are actions we can take. They are usually named in a way to helpfully describe its action - for example `print()` is helpfully describing that the action is does is print something out.\n",
    "\n",
    "Functions execute their logic based on the **arguments** you send it. Like I mentioned before, **arguments** are passed to the function inside the parens as a comma separated list. So, here's `print()` again:"
   ]
  },
  {
   "cell_type": "code",
   "execution_count": null,
   "metadata": {
    "slideshow": {
     "slide_type": "slide"
    }
   },
   "outputs": [],
   "source": [
    "# remember functions?\n",
    "print(\"hello!\")"
   ]
  },
  {
   "cell_type": "code",
   "execution_count": null,
   "metadata": {
    "slideshow": {
     "slide_type": "fragment"
    }
   },
   "outputs": [],
   "source": [
    "print(\"hello\", \"how\", \"are\", \"you\")"
   ]
  },
  {
   "cell_type": "code",
   "execution_count": null,
   "metadata": {
    "slideshow": {
     "slide_type": "fragment"
    }
   },
   "outputs": [],
   "source": [
    "# compare that to this...\n",
    "s = \"hello there\"\n",
    "s.capitalize()\n",
    "\n"
   ]
  },
  {
   "cell_type": "markdown",
   "metadata": {
    "slideshow": {
     "slide_type": "fragment"
    }
   },
   "source": [
    "# Anatomy of a method\n",
    "\n",
    "<font color='orange'>instance_of_a_data_type</font>.<font color='green'>method_name</font>()"
   ]
  },
  {
   "cell_type": "markdown",
   "metadata": {},
   "source": [
    "instance_of_data_type.method_name()"
   ]
  },
  {
   "cell_type": "markdown",
   "metadata": {
    "slideshow": {
     "slide_type": "notes"
    }
   },
   "source": [
    "A **method**, in contrast, doesn't only take arguments; it acts specifically on something. Methods are defined in relation to a certain piece of data of a certain data type, and can only be performed against that given data type, using the notation `variable.method(argument, argument, argument...)`.\n",
    "\n",
    "So for example, there is a **string method** that only works against strings called `.capitalize()`, like so:"
   ]
  },
  {
   "cell_type": "code",
   "execution_count": null,
   "metadata": {
    "slideshow": {
     "slide_type": "subslide"
    }
   },
   "outputs": [],
   "source": [
    "print(s)\n",
    "capitalize(s)"
   ]
  },
  {
   "cell_type": "markdown",
   "metadata": {
    "slideshow": {
     "slide_type": "fragment"
    }
   },
   "source": [
    "# Methods are not functions\n",
    "\n",
    "Note that I cannot call this method `capitalize()` as if it were a function against the string `s`. The traceback implies that the word `capitalize` does not exist in the current namespace. That's true - it is not part of the global namespace, but instead is always \"attached\" to an **instance** of a **string**, such as `s`."
   ]
  },
  {
   "cell_type": "code",
   "execution_count": null,
   "metadata": {
    "slideshow": {
     "slide_type": "subslide"
    }
   },
   "outputs": [],
   "source": [
    "an_integer = 5\n",
    "an_integer.capitalize()"
   ]
  },
  {
   "cell_type": "markdown",
   "metadata": {
    "slideshow": {
     "slide_type": "fragment"
    }
   },
   "source": [
    "# Methods are specific to data types\n",
    "\n",
    "Methods only belong to **instances** of the **data type** for which they are defined. In other words, they only \"work\" on certain data types. For some of them this is obvious - of course you can't \"capitalize\" the number 5. But for other cases you will have to read the documentation closely to see what data types certain methods work for."
   ]
  },
  {
   "cell_type": "markdown",
   "metadata": {
    "slideshow": {
     "slide_type": "notes"
    }
   },
   "source": [
    "Methods can also take arguments to customize the behavior of the method. For example, consider the case of the string method `.count()`. This method will try to find out how many times certain pattern matches in the string it is acting on. Obviously it needs two pieces of data, the string we're searching in, and what we're searching for. It can already get the string we're searching on since it is a method of that piece of data; so we have to supply as an argument the string we're searching for."
   ]
  },
  {
   "cell_type": "code",
   "execution_count": null,
   "metadata": {
    "slideshow": {
     "slide_type": "subslide"
    }
   },
   "outputs": [],
   "source": [
    "s.count(\"e\")"
   ]
  },
  {
   "cell_type": "markdown",
   "metadata": {
    "slideshow": {
     "slide_type": "fragment"
    }
   },
   "source": [
    "# Anatomy of a method that takes arguments\n",
    "\n",
    "\n",
    "<font color='orange'>instance_of_a_data_type</font>.<font color='green'>method_name</font>(<font color='blue'>argument</font>, <font color='blue'>argument</font>, <font color=\"gray\">...</font>)"
   ]
  },
  {
   "cell_type": "markdown",
   "metadata": {
    "slideshow": {
     "slide_type": "notes"
    }
   },
   "source": [
    "So now we know that the substring `\"there\"` is in our string `s` 1 time.\n",
    "\n",
    "For the built in data types we are discussing, you can find out what **methods** are available for data of that data type by using the `dir()` or `help()` functions by passing in an instance of a data type or the protected name of the data type to the function."
   ]
  },
  {
   "cell_type": "code",
   "execution_count": null,
   "metadata": {
    "slideshow": {
     "slide_type": "fragment"
    }
   },
   "outputs": [],
   "source": [
    "print(dir(str))"
   ]
  },
  {
   "cell_type": "code",
   "execution_count": null,
   "metadata": {
    "slideshow": {
     "slide_type": "subslide"
    }
   },
   "outputs": [],
   "source": [
    "a_string = \"hello\"\n",
    "print(dir(a_string))"
   ]
  },
  {
   "cell_type": "markdown",
   "metadata": {
    "slideshow": {
     "slide_type": "slide"
    }
   },
   "source": [
    "# Learn more about \"built-in\"s ⇢\n",
    "\n",
    "* to see all the attributes and methods available on a certain type of object available in your python interpreter, you can use the `dir` function\n",
    "* to get built-in help on the attributes and methods avialable on a certain type of object, you can use the `help` function ⇢\n",
    "* to see the expanded documentation on the above, check out the docs on python.org ⇢"
   ]
  },
  {
   "cell_type": "markdown",
   "metadata": {},
   "source": [
    "# Get your feet wet\n",
    "\n",
    "In the Python interpreter...\n",
    "\n",
    "1. Use a built in function to determine which of the following integers is larger: 7, 2, and 100. (You can't just `print(100)`!) Then use a built-in function to find the smallest number.\n",
    "  * HINT 1: See the list at https://docs.python.org/3/library/functions.html.\n",
    "  * HINT 2: Maybe check out this one in particular: https://docs.python.org/3/library/functions.html#max\n",
    "2. Assign the string of your full name to a variable called `my_full_name`. Check its type with the `type` **function**. \n",
    "3. Call the `upper` **method** against the variable you assigned in (2), which should be the variable `my_full_name`."
   ]
  },
  {
   "cell_type": "markdown",
   "metadata": {
    "slideshow": {
     "slide_type": "slide"
    }
   },
   "source": [
    "# Tour De Python ○●○○\n",
    "\n",
    "* `list`\n",
    "* `set`\n",
    "* `dict`\n",
    "* `tuple`\n",
    "* `None`\n",
    "* File-like objects\n",
    "* `len()`\n",
    "* `dict` methods: `pop()` and `update()`\n",
    "* `list` methods: `pop()`, `insert()` and `append()`"
   ]
  },
  {
   "cell_type": "markdown",
   "metadata": {
    "slideshow": {
     "slide_type": "notes"
    }
   },
   "source": [
    "# Data Types that contain other Data Types\n",
    "\n",
    "There are many more complex data types in Python that act as containers for data of the simpler data types.\n",
    "\n",
    "For example, if we wanted one data type to hold on to several integers, what would we do?"
   ]
  },
  {
   "cell_type": "markdown",
   "metadata": {
    "slideshow": {
     "slide_type": "notes"
    }
   },
   "source": [
    "## List\n",
    "One option is to use a **list**. A **list** is an ordered collection. This means that the order we specify for each piece of data in the list will be preserved.\n",
    "\n",
    "The syntax for instantiating a list is with square brackets `[]`. See below:"
   ]
  },
  {
   "cell_type": "code",
   "execution_count": null,
   "metadata": {},
   "outputs": [],
   "source": [
    "a_list = []"
   ]
  },
  {
   "cell_type": "code",
   "execution_count": null,
   "metadata": {},
   "outputs": [],
   "source": [
    "a_list = [1,2,True]\n",
    "a_list"
   ]
  },
  {
   "cell_type": "markdown",
   "metadata": {
    "tags": []
   },
   "source": [
    "![logo](https://raw.githubusercontent.com/lwgray/python_workshop/0fca6f95ae8a09e3cc1869d079753ea3eaf6434c/lists.png)"
   ]
  },
  {
   "cell_type": "code",
   "execution_count": 18,
   "metadata": {
    "slideshow": {
     "slide_type": "slide"
    }
   },
   "outputs": [],
   "source": [
    "a_list = [\"S\",\"P\",\"A\",\"R\", \"K\", 4, \"L\", \"I\", \"F\", \"E\", 5.0, True]"
   ]
  },
  {
   "cell_type": "code",
   "execution_count": null,
   "metadata": {},
   "outputs": [],
   "source": [
    "a_list"
   ]
  },
  {
   "cell_type": "code",
   "execution_count": null,
   "metadata": {
    "slideshow": {
     "slide_type": "fragment"
    }
   },
   "outputs": [],
   "source": [
    "type(a_list)"
   ]
  },
  {
   "cell_type": "markdown",
   "metadata": {
    "slideshow": {
     "slide_type": "fragment"
    }
   },
   "source": [
    "### Anatomy of a list literal\n",
    "\n",
    "[<font color='orange'>data</font>,<font color='orange'>data</font>,<font color='orange'>data</font>,...]"
   ]
  },
  {
   "cell_type": "markdown",
   "metadata": {
    "slideshow": {
     "slide_type": "notes"
    }
   },
   "source": [
    "Since a list by definition is in order, if we want to get a specific piece of data out of it, we could access them by **index**, or their position in the list. We can specify what index we want by immediately following our list with square brackets that contain the index integer inside.\n",
    "\n",
    "![logo](https://raw.githubusercontent.com/lwgray/python_workshop/0fca6f95ae8a09e3cc1869d079753ea3eaf6434c/lists.png)"
   ]
  },
  {
   "cell_type": "code",
   "execution_count": null,
   "metadata": {
    "slideshow": {
     "slide_type": "subslide"
    }
   },
   "outputs": [],
   "source": [
    "print(a_list)"
   ]
  },
  {
   "cell_type": "code",
   "execution_count": null,
   "metadata": {
    "slideshow": {
     "slide_type": "fragment"
    }
   },
   "outputs": [],
   "source": [
    "a_list[5]"
   ]
  },
  {
   "cell_type": "markdown",
   "metadata": {
    "slideshow": {
     "slide_type": "fragment"
    }
   },
   "source": [
    "### Anatomy of list index notation\n",
    "\n",
    "<font color='orange'>instance_of_ordered_data_type</font>[<font color='blue'>index_integer</font>]\n",
    "\n",
    "![logo](https://raw.githubusercontent.com/lwgray/python_workshop/0fca6f95ae8a09e3cc1869d079753ea3eaf6434c/lists.png)"
   ]
  },
  {
   "cell_type": "code",
   "execution_count": null,
   "metadata": {
    "slideshow": {
     "slide_type": "slide"
    }
   },
   "outputs": [],
   "source": [
    "print(a_list)"
   ]
  },
  {
   "cell_type": "code",
   "execution_count": null,
   "metadata": {
    "slideshow": {
     "slide_type": "fragment"
    }
   },
   "outputs": [],
   "source": [
    "a_list[0]"
   ]
  },
  {
   "cell_type": "code",
   "execution_count": null,
   "metadata": {
    "slideshow": {
     "slide_type": "fragment"
    }
   },
   "outputs": [],
   "source": [
    "a_list[1]"
   ]
  },
  {
   "cell_type": "code",
   "execution_count": null,
   "metadata": {
    "slideshow": {
     "slide_type": "fragment"
    }
   },
   "outputs": [],
   "source": [
    "a_list[2]"
   ]
  },
  {
   "cell_type": "code",
   "execution_count": null,
   "metadata": {
    "slideshow": {
     "slide_type": "subslide"
    }
   },
   "outputs": [],
   "source": [
    "a_list[7]"
   ]
  },
  {
   "cell_type": "code",
   "execution_count": null,
   "metadata": {
    "slideshow": {
     "slide_type": "fragment"
    }
   },
   "outputs": [],
   "source": [
    "a_list[8]"
   ]
  },
  {
   "cell_type": "code",
   "execution_count": null,
   "metadata": {},
   "outputs": [],
   "source": [
    "a_list"
   ]
  },
  {
   "cell_type": "code",
   "execution_count": null,
   "metadata": {},
   "outputs": [],
   "source": [
    "a_list[0:5]"
   ]
  },
  {
   "cell_type": "code",
   "execution_count": null,
   "metadata": {},
   "outputs": [],
   "source": [
    "a_list[:3]"
   ]
  },
  {
   "cell_type": "code",
   "execution_count": null,
   "metadata": {},
   "outputs": [],
   "source": [
    "a_list[5:]"
   ]
  },
  {
   "cell_type": "markdown",
   "metadata": {
    "slideshow": {
     "slide_type": "notes"
    }
   },
   "source": [
    "Were you surprised what integer we got back there? In Python/programming languages/computer science generally, data is **0-indexed**, meaning the \"first\" index is actually index 0. This is a common gotcha that I am sure to test you on, so be careful ;)"
   ]
  },
  {
   "cell_type": "markdown",
   "metadata": {
    "slideshow": {
     "slide_type": "notes"
    }
   },
   "source": [
    "## Set\n",
    "\n",
    "Another useful collection data type is a **set**. A set is an unordered, deduplicated collection of data. The syntax for instantiating a set uses curly braces `{}` containing values separated by commas. See below:"
   ]
  },
  {
   "cell_type": "code",
   "execution_count": null,
   "metadata": {
    "slideshow": {
     "slide_type": "slide"
    }
   },
   "outputs": [],
   "source": [
    "a_set = {1,2,3,3,2}"
   ]
  },
  {
   "cell_type": "code",
   "execution_count": null,
   "metadata": {
    "slideshow": {
     "slide_type": "fragment"
    }
   },
   "outputs": [],
   "source": [
    "a_set"
   ]
  },
  {
   "cell_type": "code",
   "execution_count": null,
   "metadata": {
    "slideshow": {
     "slide_type": "fragment"
    }
   },
   "outputs": [],
   "source": [
    "type(a_set)"
   ]
  },
  {
   "cell_type": "markdown",
   "metadata": {
    "slideshow": {
     "slide_type": "fragment"
    }
   },
   "source": [
    "### Anatomy of a set literal\n",
    "\n",
    "{<font color='orange'>data</font>,<font color='orange'>data</font>,<font color='orange'>data</font>,...}"
   ]
  },
  {
   "cell_type": "markdown",
   "metadata": {},
   "source": [
    "## Dictionary"
   ]
  },
  {
   "cell_type": "markdown",
   "metadata": {
    "slideshow": {
     "slide_type": "notes"
    }
   },
   "source": [
    "A Python data type that represents an mapped collection of data is the **dictionary** or **dict**. Data in a dict is accessible by each value's key, not its index, as the mapped data in a dictionary is unordered. Thus dictionaries are a comma-delimited collection of key:value pairs. Keys must always be strings and must always be unique within the same dictionary, but values can be anything you like. The syntax for instantiating a dict is with comma-delimited `\"key\": value` pairs collected inside curly braces `{\"key\": value, \"key2\": value}`.\n",
    "\n",
    "See below:\n",
    "![dict](https://github.com/lwgray/python_workshop/raw/main/dictionary.png)"
   ]
  },
  {
   "cell_type": "code",
   "execution_count": null,
   "metadata": {},
   "outputs": [],
   "source": [
    "stores = {\"retail\": \"Walmart\"}"
   ]
  },
  {
   "cell_type": "code",
   "execution_count": null,
   "metadata": {},
   "outputs": [],
   "source": [
    "stores"
   ]
  },
  {
   "cell_type": "code",
   "execution_count": null,
   "metadata": {},
   "outputs": [],
   "source": [
    "type(stores)"
   ]
  },
  {
   "cell_type": "code",
   "execution_count": null,
   "metadata": {
    "slideshow": {
     "slide_type": "slide"
    }
   },
   "outputs": [],
   "source": [
    "our_dict = {\"item_one\": 1, \"item_2\": 2, \"item_3\": 3}"
   ]
  },
  {
   "cell_type": "code",
   "execution_count": null,
   "metadata": {
    "slideshow": {
     "slide_type": "fragment"
    }
   },
   "outputs": [],
   "source": [
    "our_dict"
   ]
  },
  {
   "cell_type": "code",
   "execution_count": null,
   "metadata": {},
   "outputs": [],
   "source": [
    "our_dict.keys()"
   ]
  },
  {
   "cell_type": "code",
   "execution_count": null,
   "metadata": {},
   "outputs": [],
   "source": [
    "our_dict.values()"
   ]
  },
  {
   "cell_type": "markdown",
   "metadata": {
    "slideshow": {
     "slide_type": "fragment"
    }
   },
   "source": [
    "### Anatomy of a dict literal\n",
    "\n",
    "{<font color='orange'>key</font>:<font color='orange'>value</font>, <font color='goldenrod'>key</font>:<font color='goldenrod'>value</font>, <font color='brown'>key</font>:<font color='brown'>value</font>, ...}"
   ]
  },
  {
   "cell_type": "markdown",
   "metadata": {
    "slideshow": {
     "slide_type": "notes"
    }
   },
   "source": [
    "Ok so first off, see how they are not in the order I originally specified them? The Python interpreter organizes them its own way to optimize lookup; that's why a dict is considered to be unordered, as your original order is not preserved.\n",
    "\n",
    "We can use the same style of syntax we used to index a list with integers, but specify the key of the item in the dict we want instead:"
   ]
  },
  {
   "cell_type": "code",
   "execution_count": null,
   "metadata": {},
   "outputs": [],
   "source": [
    "print(our_dict)"
   ]
  },
  {
   "cell_type": "code",
   "execution_count": null,
   "metadata": {},
   "outputs": [],
   "source": [
    "our_dict['item_3']"
   ]
  },
  {
   "cell_type": "markdown",
   "metadata": {
    "slideshow": {
     "slide_type": "fragment"
    }
   },
   "source": [
    "### Anatomy of dict index notation\n",
    "\n",
    "<font color='orange'>instance_of_dictionary</font>[<font color='blue'>key_string</font>]"
   ]
  },
  {
   "cell_type": "markdown",
   "metadata": {
    "slideshow": {
     "slide_type": "notes"
    }
   },
   "source": [
    "There's one other collection data type I want you to be aware of, and that is **tuples**. Like lists, **tuples** are ordered collections, so you can access the values inside the tuple by index. You can instantiate a tuple using parentheses `()` with values separated by commas. See below:"
   ]
  },
  {
   "cell_type": "code",
   "execution_count": null,
   "metadata": {
    "slideshow": {
     "slide_type": "slide"
    }
   },
   "outputs": [],
   "source": [
    "our_tuple = (1,2,3,4)"
   ]
  },
  {
   "cell_type": "code",
   "execution_count": null,
   "metadata": {
    "slideshow": {
     "slide_type": "fragment"
    }
   },
   "outputs": [],
   "source": [
    "our_tuple"
   ]
  },
  {
   "cell_type": "code",
   "execution_count": null,
   "metadata": {
    "slideshow": {
     "slide_type": "fragment"
    }
   },
   "outputs": [],
   "source": [
    "our_tuple[0]"
   ]
  },
  {
   "cell_type": "markdown",
   "metadata": {
    "slideshow": {
     "slide_type": "fragment"
    }
   },
   "source": [
    "## Anatomy of a tuple\n",
    "\n",
    "(<font color='orange'>data</font>,<font color='orange'>data</font>,<font color='orange'>data</font>,...)\n",
    "\n",
    "<font color='orange'>instance_of_ordered_data_type</font>[<font color='blue'>index_integer</font>]"
   ]
  },
  {
   "cell_type": "markdown",
   "metadata": {
    "slideshow": {
     "slide_type": "notes"
    }
   },
   "source": [
    "The difference between a list and a tuple will seem slight to you for a while, and the answer is out of scope for a basic class. But I'm 100% sure you will run into them early on so I wanted you to be aware of the syntax.\n",
    "\n",
    "> BONUS!\n",
    "\n",
    "> If the suspense is killing you:\n",
    "\n",
    "> The basic difference between tuples and lists is that tuples are **immutable** and lists are **mutable**. This has to do with the underlying memory location for the data in RAM. When you change a list, the variable referencing it is still pointing at the same space in memory - that space in memory's data has been CHANGED (is mutable). When you change a tuple, technically a new tuple is instantiated so you are taking up a new space in memory. You can get some information about where in memory a variable is referencing using the `id()` function, so try using the code below to elucidate the point:\n"
   ]
  },
  {
   "cell_type": "code",
   "execution_count": 19,
   "metadata": {},
   "outputs": [
    {
     "data": {
      "text/plain": [
       "['S', 'P', 'A', 'R', 'K', 4, 'L', 'I', 'F', 'E', 5.0, True]"
      ]
     },
     "execution_count": 19,
     "metadata": {},
     "output_type": "execute_result"
    }
   ],
   "source": [
    "a_list"
   ]
  },
  {
   "cell_type": "code",
   "execution_count": 20,
   "metadata": {},
   "outputs": [
    {
     "name": "stdout",
     "output_type": "stream",
     "text": [
      "Our list is located at:  4405325408\n",
      "['S', 'P', 'A', 'R', 'K', 4, 'L', 'I', 'F', 'E', 5.0, True, 6]\n",
      "Our list is still located at:  4405325408\n"
     ]
    }
   ],
   "source": [
    "print(\"Our list is located at: \", id(a_list))\n",
    "a_list.append(6)\n",
    "print(a_list)\n",
    "print(\"Our list is still located at: \", id(a_list))"
   ]
  },
  {
   "cell_type": "code",
   "execution_count": 21,
   "metadata": {},
   "outputs": [
    {
     "name": "stdout",
     "output_type": "stream",
     "text": [
      "Our tuple is located at:  4404971664\n"
     ]
    }
   ],
   "source": [
    "print(\"Our tuple is located at: \", id(our_tuple))"
   ]
  },
  {
   "cell_type": "code",
   "execution_count": 22,
   "metadata": {},
   "outputs": [
    {
     "ename": "AttributeError",
     "evalue": "'tuple' object has no attribute 'append'",
     "output_type": "error",
     "traceback": [
      "\u001b[0;31m---------------------------------------------------------------------------\u001b[0m",
      "\u001b[0;31mAttributeError\u001b[0m                            Traceback (most recent call last)",
      "\u001b[0;32m<ipython-input-22-5a7c885a08bb>\u001b[0m in \u001b[0;36m<module>\u001b[0;34m\u001b[0m\n\u001b[0;32m----> 1\u001b[0;31m \u001b[0mour_tuple\u001b[0m\u001b[0;34m.\u001b[0m\u001b[0mappend\u001b[0m\u001b[0;34m(\u001b[0m\u001b[0;36m6\u001b[0m\u001b[0;34m)\u001b[0m\u001b[0;34m\u001b[0m\u001b[0;34m\u001b[0m\u001b[0m\n\u001b[0m",
      "\u001b[0;31mAttributeError\u001b[0m: 'tuple' object has no attribute 'append'"
     ]
    }
   ],
   "source": [
    "our_tuple.append(6)"
   ]
  },
  {
   "cell_type": "code",
   "execution_count": 23,
   "metadata": {},
   "outputs": [
    {
     "data": {
      "text/plain": [
       "(1, 2, 3, 4)"
      ]
     },
     "execution_count": 23,
     "metadata": {},
     "output_type": "execute_result"
    }
   ],
   "source": [
    "our_tuple"
   ]
  },
  {
   "cell_type": "code",
   "execution_count": 24,
   "metadata": {},
   "outputs": [
    {
     "data": {
      "text/plain": [
       "4404623984"
      ]
     },
     "execution_count": 24,
     "metadata": {},
     "output_type": "execute_result"
    }
   ],
   "source": [
    "our_tuple = (1,2,3,4,6)\n",
    "id(our_tuple)"
   ]
  },
  {
   "cell_type": "markdown",
   "metadata": {},
   "source": [
    "### Tuples are more memory efficient"
   ]
  },
  {
   "cell_type": "code",
   "execution_count": 25,
   "metadata": {},
   "outputs": [
    {
     "name": "stdout",
     "output_type": "stream",
     "text": [
      "104\n",
      "88\n"
     ]
    }
   ],
   "source": [
    "import sys\n",
    "a_list = ['a','b', 'c', 'd']\n",
    "a_tuple = ('a','b', 'c', 'd')\n",
    "print(sys.getsizeof(a_list))\n",
    "print(sys.getsizeof(a_tuple))"
   ]
  },
  {
   "cell_type": "markdown",
   "metadata": {
    "slideshow": {
     "slide_type": "notes"
    }
   },
   "source": [
    "# Even more data types\n",
    "\n",
    "We talked about the basic data types **int** **float** **str** and **bool**. Two others I want to introduce you to that are a little more complex that these two are **None-type** and **file-like**.\n",
    "\n",
    "**None-type** is a data structure that represents the concept of nothing. It is specified by the preserved Python word `None`; that's capital N `None`."
   ]
  },
  {
   "cell_type": "code",
   "execution_count": null,
   "metadata": {
    "slideshow": {
     "slide_type": "slide"
    }
   },
   "outputs": [],
   "source": [
    "nothing = None"
   ]
  },
  {
   "cell_type": "code",
   "execution_count": null,
   "metadata": {
    "slideshow": {
     "slide_type": "fragment"
    }
   },
   "outputs": [],
   "source": [
    "nothing"
   ]
  },
  {
   "cell_type": "code",
   "execution_count": null,
   "metadata": {
    "slideshow": {
     "slide_type": "fragment"
    }
   },
   "outputs": [],
   "source": [
    "type(nothing)"
   ]
  },
  {
   "cell_type": "code",
   "execution_count": null,
   "metadata": {
    "slideshow": {
     "slide_type": "fragment"
    }
   },
   "outputs": [],
   "source": [
    "print(nothing) # note that the `print` function will print out the text representation"
   ]
  },
  {
   "cell_type": "code",
   "execution_count": null,
   "metadata": {
    "slideshow": {
     "slide_type": "fragment"
    }
   },
   "outputs": [],
   "source": [
    "print(bool(nothing)) # it's \"falsey\""
   ]
  },
  {
   "cell_type": "markdown",
   "metadata": {
    "slideshow": {
     "slide_type": "fragment"
    }
   },
   "source": [
    "## None type\n",
    "\n",
    "This special case is meant to represent \"no data\", or \"null\". "
   ]
  },
  {
   "cell_type": "markdown",
   "metadata": {
    "slideshow": {
     "slide_type": "notes"
    }
   },
   "source": [
    "**File-like** is a data type that represents a file on disk. We spent all that time discussing the file system, so here it comes back again. To represent a file on disk, the Python interpreter has to **open** the file using the protected Python function `open()`. Once the file is opened, you can do all sorts of methods on it including `.read()` or `.write()`. When you are done with the file, you need to `.close()` it.\n",
    "\n",
    "The `open()` method requires at least one argument: the path of the file you want it to open on disk. You can specify this as an absolute path or a relative path; if relative, it's relative to wherever you started your Python executable.\n",
    "\n",
    "I would also suggest to send another argument, the `mode` of opening the file. For example, file can be opened to read `'r'`, write `'w'`, or both `'rw'`. Depending how you open the file, you are limited in what methods you can invoke on the file (for example/obviously, you cannot `.read()` a file that is opened in write `'w'` mode.)\n",
    "\n",
    "Let's take a look at this concept in action:"
   ]
  },
  {
   "cell_type": "code",
   "execution_count": null,
   "metadata": {
    "slideshow": {
     "slide_type": "slide"
    }
   },
   "outputs": [],
   "source": [
    "f = open(\"/Users/lgray/Desktop/hello_there.txt\", \"w\")"
   ]
  },
  {
   "cell_type": "code",
   "execution_count": null,
   "metadata": {
    "slideshow": {
     "slide_type": "fragment"
    }
   },
   "outputs": [],
   "source": [
    "type(f)"
   ]
  },
  {
   "cell_type": "code",
   "execution_count": null,
   "metadata": {
    "slideshow": {
     "slide_type": "fragment"
    }
   },
   "outputs": [],
   "source": [
    "f.write(\"You don't believe me!!!!!\")"
   ]
  },
  {
   "cell_type": "code",
   "execution_count": null,
   "metadata": {
    "slideshow": {
     "slide_type": "fragment"
    }
   },
   "outputs": [],
   "source": [
    "f.close()"
   ]
  },
  {
   "cell_type": "markdown",
   "metadata": {
    "slideshow": {
     "slide_type": "fragment"
    }
   },
   "source": [
    "## File-like objects\n",
    "\n",
    "In Python there are several specific data types (i.e. `_io.TextIOWrapper`) that represent a file on disk. The umbrella term we use to refer to these specific data types is \"file-like\", since they are designed to do the same types of things - read and write to file."
   ]
  },
  {
   "cell_type": "code",
   "execution_count": null,
   "metadata": {
    "slideshow": {
     "slide_type": "subslide"
    }
   },
   "outputs": [],
   "source": [
    "f = open(\"/Users/lgray/Desktop/hello_there.txt\", \"r\")"
   ]
  },
  {
   "cell_type": "code",
   "execution_count": null,
   "metadata": {
    "slideshow": {
     "slide_type": "fragment"
    }
   },
   "outputs": [],
   "source": [
    "content = f.read()"
   ]
  },
  {
   "cell_type": "code",
   "execution_count": null,
   "metadata": {
    "slideshow": {
     "slide_type": "fragment"
    }
   },
   "outputs": [],
   "source": [
    "print(content)"
   ]
  },
  {
   "cell_type": "code",
   "execution_count": null,
   "metadata": {
    "slideshow": {
     "slide_type": "fragment"
    }
   },
   "outputs": [],
   "source": [
    "f.close()"
   ]
  },
  {
   "cell_type": "markdown",
   "metadata": {
    "slideshow": {
     "slide_type": "fragment"
    }
   },
   "source": [
    "### Anatomy of a file-like object\n",
    "\n",
    "<font color='green'>open</font>(<font color='teal'>path</font>, <font color='teal'>mode</font>)\n",
    "\n",
    "* always specify a mode string, like `\"r\"` for read-mode or `\"w\"` for write-mode. This affects what methods you can call on that file like object instance.\n",
    "* pay attention to whether you are specifying a **relative** or **absolute** path\n",
    "* always assign the result of the `open()` method to a variable, otherwise it's not that useful"
   ]
  },
  {
   "cell_type": "markdown",
   "metadata": {
    "slideshow": {
     "slide_type": "notes"
    }
   },
   "source": [
    "In fact you can go out to your terminal and see that a file is now there. How exciting!\n",
    "\n",
    "# Some other useful functions and methods\n",
    "\n",
    "Some other stuff that's going to help you out shortly when we get to the exercises are included below.\n",
    "\n",
    "### Finding out the length of a piece of data\n",
    "\n",
    "The `len()` function can be passed any data type and will return how \"long\" that is. The definition of how \"long\" something is depends on the data type; it's most clear for collections:"
   ]
  },
  {
   "cell_type": "markdown",
   "metadata": {
    "slideshow": {
     "slide_type": "slide"
    }
   },
   "source": [
    "## The `len()` function"
   ]
  },
  {
   "cell_type": "code",
   "execution_count": null,
   "metadata": {
    "slideshow": {
     "slide_type": "subslide"
    }
   },
   "outputs": [],
   "source": [
    "len([\"a\", \"b\", \"c\", \"d\"])"
   ]
  },
  {
   "cell_type": "code",
   "execution_count": null,
   "metadata": {
    "slideshow": {
     "slide_type": "subslide"
    }
   },
   "outputs": [],
   "source": [
    "len((\"a\", \"b\", \"c\", \"d\"))"
   ]
  },
  {
   "cell_type": "code",
   "execution_count": null,
   "metadata": {
    "slideshow": {
     "slide_type": "subslide"
    }
   },
   "outputs": [],
   "source": [
    "len({\"item_one\": 1, \"item_two\": 2, \"item_three\": 3, \"item_four\": 4})"
   ]
  },
  {
   "cell_type": "markdown",
   "metadata": {
    "slideshow": {
     "slide_type": "notes"
    }
   },
   "source": [
    "But also works for string in a way that makes some sense:"
   ]
  },
  {
   "cell_type": "code",
   "execution_count": null,
   "metadata": {
    "slideshow": {
     "slide_type": "subslide"
    }
   },
   "outputs": [],
   "source": [
    "len(\"hello\")"
   ]
  },
  {
   "cell_type": "markdown",
   "metadata": {
    "slideshow": {
     "slide_type": "skip"
    }
   },
   "source": [
    "But it doesn't work for everything!!"
   ]
  },
  {
   "cell_type": "code",
   "execution_count": null,
   "metadata": {
    "slideshow": {
     "slide_type": "subslide"
    }
   },
   "outputs": [],
   "source": [
    "len(True)"
   ]
  },
  {
   "cell_type": "code",
   "execution_count": null,
   "metadata": {
    "slideshow": {
     "slide_type": "subslide"
    }
   },
   "outputs": [],
   "source": [
    "len(open(\"a_file\", \"r\"))"
   ]
  },
  {
   "cell_type": "markdown",
   "metadata": {
    "slideshow": {
     "slide_type": "notes"
    }
   },
   "source": [
    "### Changing data contained in a dict or list\n",
    "\n",
    "There are methods against data of data types dict or list that can change what is inside the dict or the list. For lists you have options like `.append()`, `.insert()`, and `.pop()`. For dicts you have options like `.update()` and `.pop()`. We can see them in action below. First, the dict methods:"
   ]
  },
  {
   "cell_type": "markdown",
   "metadata": {
    "slideshow": {
     "slide_type": "slide"
    }
   },
   "source": [
    "## Methods to modify `dict`s"
   ]
  },
  {
   "cell_type": "code",
   "execution_count": null,
   "metadata": {
    "slideshow": {
     "slide_type": "subslide"
    }
   },
   "outputs": [],
   "source": [
    "all_about_me = {\"name\": \"Larry\", \"age\": 40}"
   ]
  },
  {
   "cell_type": "code",
   "execution_count": null,
   "metadata": {
    "slideshow": {
     "slide_type": "fragment"
    }
   },
   "outputs": [],
   "source": [
    "all_about_me"
   ]
  },
  {
   "cell_type": "markdown",
   "metadata": {
    "slideshow": {
     "slide_type": "subslide"
    }
   },
   "source": [
    "Use `dict.update()` to add the contents of the the argument (which must also be a dict) to the source dict `dict`."
   ]
  },
  {
   "cell_type": "code",
   "execution_count": null,
   "metadata": {
    "slideshow": {
     "slide_type": "fragment"
    }
   },
   "outputs": [],
   "source": [
    "all_about_me.update({\"favorite_dog\": \"Otis\"})"
   ]
  },
  {
   "cell_type": "code",
   "execution_count": null,
   "metadata": {
    "slideshow": {
     "slide_type": "fragment"
    }
   },
   "outputs": [],
   "source": [
    "all_about_me"
   ]
  },
  {
   "cell_type": "markdown",
   "metadata": {
    "slideshow": {
     "slide_type": "slide"
    }
   },
   "source": [
    "Use `dict.pop` to do two things at once. It will **return** the value for a key we specify, and simultaneously modify the underlying `dict` so that key no longer exists in it."
   ]
  },
  {
   "cell_type": "code",
   "execution_count": null,
   "metadata": {
    "slideshow": {
     "slide_type": "fragment"
    }
   },
   "outputs": [],
   "source": [
    "all_about_me.pop('favorite_dog')"
   ]
  },
  {
   "cell_type": "code",
   "execution_count": null,
   "metadata": {
    "slideshow": {
     "slide_type": "fragment"
    }
   },
   "outputs": [],
   "source": [
    "all_about_me"
   ]
  },
  {
   "cell_type": "markdown",
   "metadata": {
    "slideshow": {
     "slide_type": "subslide"
    }
   },
   "source": [
    "Watch this time as we \"capture\" the value that is **returned** from the pop method by using variable assignment."
   ]
  },
  {
   "cell_type": "code",
   "execution_count": null,
   "metadata": {
    "slideshow": {
     "slide_type": "fragment"
    }
   },
   "outputs": [],
   "source": [
    "my_name = all_about_me.pop('name')"
   ]
  },
  {
   "cell_type": "code",
   "execution_count": null,
   "metadata": {
    "slideshow": {
     "slide_type": "fragment"
    }
   },
   "outputs": [],
   "source": [
    "my_name"
   ]
  },
  {
   "cell_type": "code",
   "execution_count": null,
   "metadata": {
    "slideshow": {
     "slide_type": "fragment"
    }
   },
   "outputs": [],
   "source": [
    "all_about_me"
   ]
  },
  {
   "cell_type": "markdown",
   "metadata": {
    "slideshow": {
     "slide_type": "notes"
    }
   },
   "source": [
    "Now the list methods:"
   ]
  },
  {
   "cell_type": "markdown",
   "metadata": {
    "slideshow": {
     "slide_type": "slide"
    }
   },
   "source": [
    "## Methods to modify `list`s"
   ]
  },
  {
   "cell_type": "code",
   "execution_count": null,
   "metadata": {
    "slideshow": {
     "slide_type": "fragment"
    }
   },
   "outputs": [],
   "source": [
    "a_list = [2,0,2,5,5,5,1,2,3,4]"
   ]
  },
  {
   "cell_type": "code",
   "execution_count": null,
   "metadata": {
    "slideshow": {
     "slide_type": "fragment"
    }
   },
   "outputs": [],
   "source": [
    "a_list"
   ]
  },
  {
   "cell_type": "markdown",
   "metadata": {
    "slideshow": {
     "slide_type": "subslide"
    }
   },
   "source": [
    "Use `list.insert` to add a value to a list. It takes two arguments, the first being an index to insert a value before, and then the second being the value to add to the list. As a result the underlying list is changed and all the indicies to the right of the added value shift one."
   ]
  },
  {
   "cell_type": "code",
   "execution_count": null,
   "metadata": {
    "slideshow": {
     "slide_type": "fragment"
    }
   },
   "outputs": [],
   "source": [
    "a_list.insert(0, \"hello!\")"
   ]
  },
  {
   "cell_type": "code",
   "execution_count": null,
   "metadata": {
    "slideshow": {
     "slide_type": "fragment"
    }
   },
   "outputs": [],
   "source": [
    "a_list"
   ]
  },
  {
   "cell_type": "markdown",
   "metadata": {
    "slideshow": {
     "slide_type": "subslide"
    }
   },
   "source": [
    "`list.pop`, similarly to the dict version of this method, **returns** the value for an index we specify, and simultaneously modifies the underlying list so that the value that was at that index no longer exists in it. As a result the underlying list is changed and all the indicies to the right of the removed value shift one."
   ]
  },
  {
   "cell_type": "code",
   "execution_count": null,
   "metadata": {
    "slideshow": {
     "slide_type": "fragment"
    }
   },
   "outputs": [],
   "source": [
    "a_list.pop(0)"
   ]
  },
  {
   "cell_type": "code",
   "execution_count": null,
   "metadata": {
    "slideshow": {
     "slide_type": "fragment"
    }
   },
   "outputs": [],
   "source": [
    "print(a_list)"
   ]
  },
  {
   "cell_type": "markdown",
   "metadata": {
    "slideshow": {
     "slide_type": "subslide"
    }
   },
   "source": [
    "`list.append` takes one argument and appends it to the end of the list. This is identical to using `list.insert` but automatically specifies the last index as your insert index."
   ]
  },
  {
   "cell_type": "code",
   "execution_count": null,
   "metadata": {
    "slideshow": {
     "slide_type": "fragment"
    }
   },
   "outputs": [],
   "source": [
    "a_list.append(\"goodbye!\")"
   ]
  },
  {
   "cell_type": "code",
   "execution_count": null,
   "metadata": {
    "slideshow": {
     "slide_type": "fragment"
    }
   },
   "outputs": [],
   "source": [
    "a_list"
   ]
  },
  {
   "cell_type": "markdown",
   "metadata": {
    "slideshow": {
     "slide_type": "slide"
    }
   },
   "source": [
    "# Pair Programming Exercises!\n",
    "\n",
    "1. Create a dictionary whose keys include some properties about yourself – “height”, “fave_color”, “name” might be a few – and their values. Have your partner do it too. Now you’ve introduced yourself! {key:value, key:value}\n",
    "2. Start with a string containing your first and last name, then find a way to split it out into the two strings (one for your first name, one for your last name) using ONLY a method available on strings (don't just rewrite it!). Capture the return value in a variable, and then use that variable to print each of those strings individually.\n",
    "    * HINT: use the `split()` **method** available on instances of type string! What data type do you get back?\n",
    "3. Create a list of the digits that are in your telephone number. Now create a set from that list. \n",
    "    * HINT: There is a casting **function** that would be useful here! Remember `int('5')`?\n",
    "4. From python, create a file and write a sentence in it. Try exiting python with `exit()` once you have done so, and open it up in your terminal using the skills we learned this morning! \n",
    "    * HINT: You are in the python interpreter when you see the three carrots (>>>), but your terminal program has a different prompt!"
   ]
  },
  {
   "cell_type": "markdown",
   "metadata": {
    "slideshow": {
     "slide_type": "notes"
    }
   },
   "source": [
    "# Comparisons\n",
    "\n",
    "Ok, now that we feel comfortable with the syntax of all sorts of different data types and have practices with a few functions and methods, let's learn about comparisons in anticipation for learning about control flow.\n",
    "\n",
    "Comparisons are a set of expressions that compare one peice of data to another using a specific **comparison operator** so that the expression evaluates to a boolean of `True` or `False`. A lot of these comparison operators you'll recognize from arithmetic and they have similar meanings here.\n",
    "\n"
   ]
  },
  {
   "cell_type": "markdown",
   "metadata": {
    "slideshow": {
     "slide_type": "slide"
    }
   },
   "source": [
    "## Comparison Operators\n",
    "\n",
    "Operation|Meaning\n",
    "---------|---------\n",
    "< |\tstrictly less than\t\n",
    "<= |\tless than or equal\t \n",
    "&gt;|\tstrictly greater than\t \n",
    "\\>=\t|greater than or equal\t \n",
    " ==\t|equal\t \n",
    " !=\t|not equal\n",
    " is\t|object identity\t \n",
    " is not|\tnegated object identity\n",
    " in | contains value\n",
    " not in | does not contain value\n",
    " \n"
   ]
  },
  {
   "cell_type": "markdown",
   "metadata": {},
   "source": [
    "1. “Objects are Python’s abstraction for data. All data in a Python program is represented by objects or by relations between objects.”\n",
    "2. “Every object has an identity, a type and a value.”\n",
    "![hotel](https://i.ibb.co/9yHMcXX/hotel.png\")\n",
    "\n",
    "https://medium.com/swlh/object-identities-in-python-3ac8cba25015"
   ]
  },
  {
   "cell_type": "code",
   "execution_count": 76,
   "metadata": {
    "slideshow": {
     "slide_type": "subslide"
    }
   },
   "outputs": [
    {
     "data": {
      "text/plain": [
       "True"
      ]
     },
     "execution_count": 76,
     "metadata": {},
     "output_type": "execute_result"
    }
   ],
   "source": [
    "4 < 5\n"
   ]
  },
  {
   "cell_type": "code",
   "execution_count": 77,
   "metadata": {
    "slideshow": {
     "slide_type": "fragment"
    }
   },
   "outputs": [
    {
     "data": {
      "text/plain": [
       "True"
      ]
     },
     "execution_count": 77,
     "metadata": {},
     "output_type": "execute_result"
    }
   ],
   "source": [
    "5 <= 5\n"
   ]
  },
  {
   "cell_type": "code",
   "execution_count": 78,
   "metadata": {
    "slideshow": {
     "slide_type": "fragment"
    }
   },
   "outputs": [
    {
     "data": {
      "text/plain": [
       "True"
      ]
     },
     "execution_count": 78,
     "metadata": {},
     "output_type": "execute_result"
    }
   ],
   "source": [
    "5 != \"hello\"\n"
   ]
  },
  {
   "cell_type": "code",
   "execution_count": 79,
   "metadata": {
    "slideshow": {
     "slide_type": "fragment"
    }
   },
   "outputs": [
    {
     "data": {
      "text/plain": [
       "True"
      ]
     },
     "execution_count": 79,
     "metadata": {},
     "output_type": "execute_result"
    }
   ],
   "source": [
    "5 == 5"
   ]
  },
  {
   "cell_type": "code",
   "execution_count": 80,
   "metadata": {
    "slideshow": {
     "slide_type": "subslide"
    }
   },
   "outputs": [
    {
     "data": {
      "text/plain": [
       "True"
      ]
     },
     "execution_count": 80,
     "metadata": {},
     "output_type": "execute_result"
    }
   ],
   "source": [
    "1 is 1"
   ]
  },
  {
   "cell_type": "code",
   "execution_count": 81,
   "metadata": {
    "slideshow": {
     "slide_type": "fragment"
    }
   },
   "outputs": [
    {
     "data": {
      "text/plain": [
       "False"
      ]
     },
     "execution_count": 81,
     "metadata": {},
     "output_type": "execute_result"
    }
   ],
   "source": [
    "False is True"
   ]
  },
  {
   "cell_type": "code",
   "execution_count": 82,
   "metadata": {
    "slideshow": {
     "slide_type": "fragment"
    }
   },
   "outputs": [
    {
     "data": {
      "text/plain": [
       "True"
      ]
     },
     "execution_count": 82,
     "metadata": {},
     "output_type": "execute_result"
    }
   ],
   "source": [
    "5 is not 1\n"
   ]
  },
  {
   "cell_type": "code",
   "execution_count": 83,
   "metadata": {
    "slideshow": {
     "slide_type": "subslide"
    }
   },
   "outputs": [
    {
     "data": {
      "text/plain": [
       "True"
      ]
     },
     "execution_count": 83,
     "metadata": {},
     "output_type": "execute_result"
    }
   ],
   "source": [
    "5 == 5.0"
   ]
  },
  {
   "cell_type": "code",
   "execution_count": 84,
   "metadata": {
    "slideshow": {
     "slide_type": "fragment"
    }
   },
   "outputs": [
    {
     "data": {
      "text/plain": [
       "False"
      ]
     },
     "execution_count": 84,
     "metadata": {},
     "output_type": "execute_result"
    }
   ],
   "source": [
    "5 is 5.0"
   ]
  },
  {
   "cell_type": "code",
   "execution_count": 85,
   "metadata": {},
   "outputs": [
    {
     "data": {
      "text/plain": [
       "True"
      ]
     },
     "execution_count": 85,
     "metadata": {},
     "output_type": "execute_result"
    }
   ],
   "source": [
    "5 in [1,2,3,4,5]"
   ]
  },
  {
   "cell_type": "code",
   "execution_count": 86,
   "metadata": {},
   "outputs": [
    {
     "data": {
      "text/plain": [
       "True"
      ]
     },
     "execution_count": 86,
     "metadata": {},
     "output_type": "execute_result"
    }
   ],
   "source": [
    "6 not in [1,2,3,4,5]"
   ]
  },
  {
   "cell_type": "markdown",
   "metadata": {
    "slideshow": {
     "slide_type": "notes"
    }
   },
   "source": [
    "Surprised by some of them? The important thing to know about equality (`=` or its negation `!=`) and object identity (`is` or its negation `not is`) is that equality is about the value while object identity is about value and data type. The actual reason for this has to do with how Python actually stores values in memory, but is outside the scope of this class. If you REALLY want to know, I highly recommend [this video on Memory Management in Python](http://pyvideo.org/pycon-us-2016/nina-zakharenko-memory-management-in-python-the-basics-pycon-2016.html) from Pycon 2016."
   ]
  }
 ],
 "metadata": {
  "anaconda-cloud": {},
  "celltoolbar": "Slideshow",
  "kernelspec": {
   "display_name": "Python 3",
   "language": "python",
   "name": "python3"
  },
  "language_info": {
   "codemirror_mode": {
    "name": "ipython",
    "version": 3
   },
   "file_extension": ".py",
   "mimetype": "text/x-python",
   "name": "python",
   "nbconvert_exporter": "python",
   "pygments_lexer": "ipython3",
   "version": "3.8.0"
  }
 },
 "nbformat": 4,
 "nbformat_minor": 4
}
