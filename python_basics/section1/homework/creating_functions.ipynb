{
 "cells": [
  {
   "cell_type": "markdown",
   "id": "eb852b2c-ef06-4856-aa9d-6853976ff04e",
   "metadata": {},
   "source": [
    "Assignment: Creating Functions in Python for Beginners\n",
    "\n",
    "Objective:\n",
    "In this assignment, you will learn how to create and use functions in Python. You will understand how to define functions, pass parameters, and return values.\n",
    "\n",
    "Instructions:\n",
    "\n",
    "Write a function that takes two arguments (x, y) and returns their sum.\n",
    "\n",
    "Write a function that takes an argument (name) and returns a personalized greeting message that includes the name.\n",
    "\n",
    "Write a function that takes a list of numbers as a argument and returns the average of the numbers.\n",
    "\n",
    "Write a function that takes two arguments (base, exponent) and returns the result of raising the base to the exponent.\n",
    "\n",
    "Write a function that takes a argrument (string) and returns the length of the string.\n",
    "\n",
    "Guidelines:\n",
    "\n",
    "Your functions should have meaningful names that reflect their purpose.\n",
    "Use comments to explain what the function does and what parameters it takes.\n",
    "Test each function with different values to ensure it works as expected.\n"
   ]
  }
 ],
 "metadata": {
  "kernelspec": {
   "display_name": "Python 3 (ipykernel)",
   "language": "python",
   "name": "python3"
  },
  "language_info": {
   "codemirror_mode": {
    "name": "ipython",
    "version": 3
   },
   "file_extension": ".py",
   "mimetype": "text/x-python",
   "name": "python",
   "nbconvert_exporter": "python",
   "pygments_lexer": "ipython3",
   "version": "3.9.7"
  }
 },
 "nbformat": 4,
 "nbformat_minor": 5
}
