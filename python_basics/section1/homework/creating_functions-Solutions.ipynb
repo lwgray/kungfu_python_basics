{
 "cells": [
  {
   "cell_type": "markdown",
   "id": "eb852b2c-ef06-4856-aa9d-6853976ff04e",
   "metadata": {},
   "source": [
    "Assignment: Creating Functions in Python for Beginners\n",
    "\n",
    "Objective:\n",
    "In this assignment, you will learn how to create and use functions in Python. You will understand how to define functions, pass parameters, and return values.\n",
    "\n",
    "Instructions:\n",
    "\n",
    "Write a function that takes two arguments (x, y) and returns their sum.\n",
    "\n",
    "Write a function that takes an argument (name) and returns a personalized greeting message that includes the name.\n",
    "\n",
    "Write a function that takes a list of numbers as a argument and returns the average of the numbers.\n",
    "\n",
    "Write a function that takes two arguments (base, exponent) and returns the result of raising the base to the exponent.\n",
    "\n",
    "Write a function that takes a argrument (string) and returns the length of the string.\n",
    "\n",
    "Guidelines:\n",
    "\n",
    "Your functions should have meaningful names that reflect their purpose.\n",
    "Use comments to explain what the function does and what parameters it takes.\n",
    "Test each function with different values to ensure it works as expected.\n"
   ]
  },
  {
   "cell_type": "code",
   "execution_count": 1,
   "id": "48ddc61c-588a-496a-97ff-a946613550d3",
   "metadata": {},
   "outputs": [],
   "source": [
    "# 1. Function to add two numbers\n",
    "def add_numbers(x, y):\n",
    "    \"\"\"\n",
    "    Adds two numbers and returns the result.\n",
    "    Parameters:\n",
    "    x (int): The first number.\n",
    "    y (int): The second number.\n",
    "    Returns:\n",
    "    int: The sum of x and y.\n",
    "    \"\"\"\n",
    "    result = x + y\n",
    "    return result"
   ]
  },
  {
   "cell_type": "code",
   "execution_count": 1,
   "id": "29f2288a-1610-4711-8bbf-dc05de30a86c",
   "metadata": {},
   "outputs": [],
   "source": [
    "# 2. Function to return a personalized greeting message\n",
    "def greet(name):\n",
    "    \"\"\"\n",
    "    Returns a personalized greeting message that includes the name.\n",
    "    Parameters:\n",
    "    name (str): The name of the person to be greeted.\n",
    "    Returns:\n",
    "    str: A personalized greeting message.\n",
    "    \"\"\"\n",
    "    message = \"Hello, \" + name + \"!\"\n",
    "    return message"
   ]
  },
  {
   "cell_type": "code",
   "execution_count": 1,
   "id": "9461e302-42cf-4832-b103-980542a56817",
   "metadata": {},
   "outputs": [],
   "source": [
    "# 3. Function to calculate the average of a list of numbers\n",
    "def calculate_average(numbers):\n",
    "    \"\"\"\n",
    "    Calculates the average of a list of numbers.\n",
    "    Parameters:\n",
    "    numbers (list): A list of numbers.\n",
    "    Returns:\n",
    "    float: The average of the numbers in the list.\n",
    "    \"\"\"\n",
    "    total = sum(numbers)\n",
    "    count = len(numbers)\n",
    "    average = total / count\n",
    "    return average"
   ]
  },
  {
   "cell_type": "code",
   "execution_count": 1,
   "id": "464e35da-5d07-408a-8082-ac835df1d17c",
   "metadata": {},
   "outputs": [],
   "source": [
    "# 4. Function to calculate the power of a number\n",
    "def calculate_power(base, exponent):\n",
    "    \"\"\"\n",
    "    Calculates the result of raising a number to a power.\n",
    "    Parameters:\n",
    "    base (int): The base number.\n",
    "    exponent (int): The exponent.\n",
    "    Returns:\n",
    "    int: The result of raising base to exponent.\n",
    "    \"\"\"\n",
    "    result = base ** exponent\n",
    "    return result"
   ]
  },
  {
   "cell_type": "code",
   "execution_count": 1,
   "id": "e1743a82-8081-4832-b2fc-95a6212ac5a5",
   "metadata": {},
   "outputs": [
    {
     "name": "stdout",
     "output_type": "stream",
     "text": [
      "7\n"
     ]
    }
   ],
   "source": [
    "# 5. Function to calculate the length of a string\n",
    "def calculate_length(string):\n",
    "    \"\"\"\n",
    "    Calculates the length of a string.\n",
    "    Parameters:\n",
    "    string (str): The string to be measured.\n",
    "    Returns:\n",
    "    int: The length of the string.\n",
    "    \"\"\"\n",
    "    length = len(string)\n",
    "    return length"
   ]
  }
 ],
 "metadata": {
  "kernelspec": {
   "display_name": "Python 3 (ipykernel)",
   "language": "python",
   "name": "python3"
  },
  "language_info": {
   "codemirror_mode": {
    "name": "ipython",
    "version": 3
   },
   "file_extension": ".py",
   "mimetype": "text/x-python",
   "name": "python",
   "nbconvert_exporter": "python",
   "pygments_lexer": "ipython3",
   "version": "3.9.7"
  }
 },
 "nbformat": 4,
 "nbformat_minor": 5
}
