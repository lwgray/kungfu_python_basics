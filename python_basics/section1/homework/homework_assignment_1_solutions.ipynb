{
 "cells": [
  {
   "cell_type": "markdown",
   "id": "638bfe4b-1722-4b4d-af6f-1858e444b2c4",
   "metadata": {
    "tags": []
   },
   "source": [
    "# Homework Assignment 1: Introduction to Python"
   ]
  },
  {
   "cell_type": "markdown",
   "id": "13bbe398-1d27-4897-aadc-932d91ee5e2c",
   "metadata": {},
   "source": [
    "### 1. Create a variable called \"name\" and assign it the value of your name as a string."
   ]
  },
  {
   "cell_type": "code",
   "execution_count": null,
   "id": "3a7d37fe-b9d0-41f4-9c88-09abe48cbb8e",
   "metadata": {},
   "outputs": [],
   "source": [
    "name = \"Your Name\""
   ]
  },
  {
   "cell_type": "markdown",
   "id": "0501361a-19e7-495b-9c01-3ce79443b1de",
   "metadata": {},
   "source": [
    "### 2. Create a variable called \"age\" and assign it the value of your age as an integer."
   ]
  },
  {
   "cell_type": "code",
   "execution_count": null,
   "id": "cf8fd383-6b55-4f5f-bb20-ba8693c02148",
   "metadata": {},
   "outputs": [],
   "source": [
    "age = 25"
   ]
  },
  {
   "cell_type": "markdown",
   "id": "08a9f589-a387-4397-b46e-6c5ed314f709",
   "metadata": {},
   "source": [
    "### 3. Create a variable called \"isStudent\" and assign it the value of whether or not you are currently a student as a boolean."
   ]
  },
  {
   "cell_type": "code",
   "execution_count": null,
   "id": "7e089837-6fba-49ae-b650-ee9d883a3bfa",
   "metadata": {},
   "outputs": [],
   "source": [
    "isStudent = True"
   ]
  },
  {
   "cell_type": "markdown",
   "id": "a6a62d62-a246-4095-900f-ae1aecd08c0c",
   "metadata": {},
   "source": [
    "### 4. Use the print() function to print out a sentence that says \"My name is [name] and I am [age] years old.\""
   ]
  },
  {
   "cell_type": "code",
   "execution_count": null,
   "id": "d981bf83-5b3e-4d5a-aa3e-498a7e3fa0db",
   "metadata": {},
   "outputs": [],
   "source": [
    "print(\"My name is \"+ name + \" and I am \"+ str(age) +\" years old.\")"
   ]
  },
  {
   "cell_type": "markdown",
   "id": "8b4acd41-7197-4f0c-bbe0-20309374bb8e",
   "metadata": {},
   "source": [
    "### 5. Use an if-statement to check the value of \"isStudent\". If it is True, print out \"I am currently a student.\" If it is False, print out \"I am not currently a student.\""
   ]
  },
  {
   "cell_type": "code",
   "execution_count": null,
   "id": "f96cd820-b618-46ea-8c1c-20b61fe12e2e",
   "metadata": {},
   "outputs": [],
   "source": [
    "if isStudent:\n",
    "    print(\"I am currently a student.\")\n",
    "else:\n",
    "    print(\"I am not currently a student.\")"
   ]
  },
  {
   "cell_type": "markdown",
   "id": "b7ccbe56-4bb6-42a7-b075-412244ca6f5b",
   "metadata": {},
   "source": [
    "### 6. Create a list of your favorite foods and call it \"favorites\"."
   ]
  },
  {
   "cell_type": "code",
   "execution_count": null,
   "id": "98492100-b3d7-40d5-bfbf-5afe091a14cf",
   "metadata": {},
   "outputs": [],
   "source": [
    "favorites = [\"pizza\", \"pasta\", \"sushi\", \"burger\"]"
   ]
  },
  {
   "cell_type": "markdown",
   "id": "a5381b2b-fcd9-449d-b906-425c4eff43b6",
   "metadata": {},
   "source": [
    "### 7. Use a for loop to iterate through the list and print out each food."
   ]
  },
  {
   "cell_type": "code",
   "execution_count": null,
   "id": "31f92f13-8282-402c-991b-aa462e367cd3",
   "metadata": {},
   "outputs": [],
   "source": [
    "for food in favorites:\n",
    "    print(food)"
   ]
  },
  {
   "cell_type": "markdown",
   "id": "c53f8497-aa91-45eb-acdc-963b9c84a263",
   "metadata": {},
   "source": [
    "### 8. Use the len() function to print out the length of the list."
   ]
  },
  {
   "cell_type": "code",
   "execution_count": null,
   "id": "85ab0cb0-2f9b-4743-9453-d082e9c37573",
   "metadata": {},
   "outputs": [],
   "source": [
    "print(len(favorites))"
   ]
  },
  {
   "cell_type": "markdown",
   "id": "e4602d3c-0ff1-4ee3-9a5b-300e01ef5f99",
   "metadata": {},
   "source": [
    "### 9. Create a dictionary with keys \"name\", \"age\", \"isStudent\", and \"favorites\" and assign the corresponding values from the variables and list you created earlier."
   ]
  },
  {
   "cell_type": "code",
   "execution_count": null,
   "id": "702efb30-11e4-4133-9f4c-b2b9f864bba0",
   "metadata": {},
   "outputs": [],
   "source": [
    "my_info = {\n",
    "\"name\": name,\n",
    "\"age\": age,\n",
    "\"isStudent\": isStudent,\n",
    "\"favorites\": favorites\n",
    "}"
   ]
  },
  {
   "cell_type": "markdown",
   "id": "4ed40992-0565-49cb-8f12-a04ea6ee233b",
   "metadata": {},
   "source": [
    "### 10. Use a for loop to iterate through the dictionary and print out each key and value."
   ]
  },
  {
   "cell_type": "code",
   "execution_count": null,
   "id": "e5b5f1a2-796a-40c2-8c89-6712b27501ca",
   "metadata": {},
   "outputs": [],
   "source": [
    "for key, value in my_info.items():\n",
    "print(key + \": \" + str(value))"
   ]
  },
  {
   "cell_type": "markdown",
   "id": "a3102590-ae8b-4b27-b43f-528375c2bca7",
   "metadata": {
    "tags": []
   },
   "source": [
    "# Homework Assignment 2: Python Conditionals for Beginners"
   ]
  },
  {
   "cell_type": "markdown",
   "id": "d233f259-69be-476e-ac8f-312c8665cf23",
   "metadata": {},
   "source": [
    "### 1. Create a variable called \"temperature\" and assign it a value of the current temperature in Fahrenheit."
   ]
  },
  {
   "cell_type": "code",
   "execution_count": null,
   "id": "31e06332-b0c4-42b8-a803-6b070bc9db91",
   "metadata": {},
   "outputs": [],
   "source": [
    "temperature = 72"
   ]
  },
  {
   "cell_type": "markdown",
   "id": "e47a8343-5e86-402d-b11a-6ba3f1fcb76b",
   "metadata": {},
   "source": [
    "### 2. Use an if-else statement to check the value of the temperature and print out whether it is \"hot\", \"warm\", \"cool\", or \"cold\" based on the following ranges:\n",
    "\n",
    "* Hot: over 90 degrees\n",
    "* Warm: between 70 and 89 degrees\n",
    "* Cool: between 50 and 69 degrees\n",
    "* Cold: below 50 degrees"
   ]
  },
  {
   "cell_type": "code",
   "execution_count": null,
   "id": "8a820554-8c69-4590-beba-36f58e2a0205",
   "metadata": {},
   "outputs": [],
   "source": [
    "if temperature > 90:\n",
    "    print(\"Hot\")\n",
    "elif temperature >= 70 and temperature <= 89:\n",
    "    print(\"Warm\")\n",
    "elif temperature >= 50 and temperature <= 69:\n",
    "    print(\"Cool\")\n",
    "else:\n",
    "    print(\"Cold\")"
   ]
  },
  {
   "cell_type": "markdown",
   "id": "6218e5a5-9170-4a1c-a666-61ea52aa44b0",
   "metadata": {},
   "source": [
    "### 3. Create a variable called \"is_raining\" and assign it a boolean value of whether or not it is currently raining."
   ]
  },
  {
   "cell_type": "code",
   "execution_count": null,
   "id": "08954bbf-d96e-4246-85ab-1795b8df170f",
   "metadata": {},
   "outputs": [],
   "source": [
    "is_raining = False"
   ]
  },
  {
   "cell_type": "markdown",
   "id": "5fb925ab-c00f-4936-8e7c-6db997cfeec0",
   "metadata": {},
   "source": [
    "### 4. Use an if-else statement to check the value of \"is_raining\" and print out whether it is \"raining\" or \"not raining\"."
   ]
  },
  {
   "cell_type": "code",
   "execution_count": null,
   "id": "16bf4b00-6449-49ff-8e5a-b0d778adc962",
   "metadata": {},
   "outputs": [],
   "source": [
    "if is_raining:\n",
    "    print(\"Raining\")\n",
    "else:\n",
    "    print(\"Not Raining\")"
   ]
  },
  {
   "cell_type": "markdown",
   "id": "a4fa44c5-846a-450d-8b8a-15d647dfd1f0",
   "metadata": {},
   "source": [
    "### 5. Create a variable called \"day_of_week\" and assign it a string value of the current day of the week."
   ]
  },
  {
   "cell_type": "code",
   "execution_count": null,
   "id": "d54f28bb-b9c5-4a55-ac89-931f028ec895",
   "metadata": {},
   "outputs": [],
   "source": [
    "day_of_week = \"Sunday\""
   ]
  },
  {
   "cell_type": "markdown",
   "id": "60f62e36-d973-4ad3-988a-c1bfcb2d01d5",
   "metadata": {},
   "source": [
    "### 6. Use an if-elif-else statement to check the value of \"day_of_week\" and print out whether it is \"weekday\" or \"weekend\" based on the following values:\n",
    "\n",
    "* Monday, Tuesday, Wednesday, Thursday, Friday = weekday\n",
    "* Saturday, Sunday = weekend"
   ]
  },
  {
   "cell_type": "code",
   "execution_count": null,
   "id": "5b7f3cf8-fdf1-4caf-989a-bc22d26bcaa0",
   "metadata": {},
   "outputs": [],
   "source": [
    "if day_of_week == \"Monday\" or day_of_week == \"Tuesday\" or day_of_week == \"Wednesday\" or day_of_week == \"Thursday\" or day_of_week == \"Friday\":\n",
    "    print(\"Weekday\")\n",
    "elif day_of_week == \"Saturday\" or day_of_week == \"Sunday\":\n",
    "    print(\"Weekend\")\n",
    "else:\n",
    "    print(\"Invalid Input\")"
   ]
  },
  {
   "cell_type": "markdown",
   "id": "b8dd998d-dac4-4da4-ab64-e124d72ab095",
   "metadata": {},
   "source": [
    "### 7. Create a variable called \"age\" and assign it an integer value of your age."
   ]
  },
  {
   "cell_type": "code",
   "execution_count": null,
   "id": "a5492f11-7262-4a15-9fe2-5901dd380f2f",
   "metadata": {},
   "outputs": [],
   "source": [
    "age = 25"
   ]
  },
  {
   "cell_type": "markdown",
   "id": "cde4dde8-b3b3-44d8-93c6-b5dce2890f2f",
   "metadata": {},
   "source": [
    "### 8. Use an if-elif-else statement to check the value of \"age\" and print out whether the person is a \"child\", \"teenager\", \"adult\", or \"senior\" based on the following ranges:\n",
    "\n",
    "* Child: under 13\n",
    "* Teenager: between 13 and 17\n",
    "* Adult: between 18 and 64\n",
    "* Senior: over 64"
   ]
  },
  {
   "cell_type": "code",
   "execution_count": null,
   "id": "7b8f0f01-b0ed-422e-9c12-981065db3ed9",
   "metadata": {},
   "outputs": [],
   "source": [
    "if age < 13:\n",
    "    print(\"Child\")\n",
    "elif age >= 13 and age <= 17:\n",
    "    print(\"Teenager\")\n",
    "elif age >= 18 and age <= 64:\n",
    "    print(\"Adult\")\n",
    "else:\n",
    "    print(\"Senior\")"
   ]
  },
  {
   "cell_type": "markdown",
   "id": "06255650-544a-4810-9bc1-545135cb28d6",
   "metadata": {},
   "source": [
    "# Homework Assignment 3: Python Fundamentals - Str, List, and Dict Methods"
   ]
  },
  {
   "cell_type": "markdown",
   "id": "3c3c9653-f2a6-4a5a-8453-5c4cc9baa8eb",
   "metadata": {},
   "source": [
    "Objective:\n",
    "This assignment aims to introduce you to the basic methods of Python's string, list, and dictionary data types. By completing this assignment, you will be able to understand how to manipulate strings, lists, and dictionaries using various built-in Python methods."
   ]
  },
  {
   "cell_type": "markdown",
   "id": "3b3d0214-dcb8-4c2e-a7f2-58ac8c3a9598",
   "metadata": {
    "jp-MarkdownHeadingCollapsed": true,
    "tags": []
   },
   "source": [
    "Instructions:\n",
    "\n",
    "### 1. Create a string variable named \"string_var\" and assign it the value \"Hello World!\"\n",
    "### 2. Use the .upper() method to convert the string to uppercase and print the result.\n",
    "### 3. Use the .replace() method to replace the word \"World\" with \"Python\" in the string and print the result.\n",
    "### 4. Use the .split() method to convert the string into a list of words and print the result.\n",
    "### 5. Create a list variable named \"list_var\" and assign it the values [1, 2, 3, 4, 5].\n",
    "### 6. Use the .append() method to add the value 6 to the list and print the result.\n",
    "### 7. Use the .pop() method to remove the last value in the list (6) and print the result.\n",
    "### 8. Use the .index() method to find the index of the value 3 in the list and print the result.\n",
    "### 9. Create a dictionary variable named \"dict_var\" and assign it the key-value pairs {\"name\":\"John\", \"age\":30, \"location\":\"New York\"}\n",
    "### 10. Use the .keys() method to print the keys of the dictionary.\n",
    "### 1. Use the .values() method to print the values of the dictionary.\n",
    "### 12. Use the .items() method to print the key-value pairs of the dictionary.\n",
    "### 13. Use the .get() method to retrieve the value of the key \"age\" from the dictionary and print the result."
   ]
  },
  {
   "cell_type": "markdown",
   "id": "2d6955c4-3691-4b2d-b77d-2e801a9063f2",
   "metadata": {},
   "source": [
    "# Solutions Homework 3"
   ]
  },
  {
   "cell_type": "code",
   "execution_count": null,
   "id": "ffe338ea-30ef-4b38-b82d-6859c8da09c7",
   "metadata": {},
   "outputs": [],
   "source": [
    "# 1. Create a string variable named \"string_var\" and assign it the value \"Hello World!\"\n",
    "string_var = \"Hello World!\"\n",
    "\n",
    "# 2. Use the .upper() method to convert the string to uppercase and print the result.\n",
    "print(string_var.upper())\n",
    "\n",
    "# 3. Use the .replace() method to replace the word \"World\" with \"Python\" in the string and print the result.\n",
    "string_var = string_var.replace(\"World\", \"Python\")\n",
    "print(string_var)\n",
    "\n",
    "# 4. Use the .split() method to convert the string into a list of words and print the result.\n",
    "list_var = string_var.split()\n",
    "print(list_var)\n",
    "\n",
    "# 5. Create a list variable named \"list_var\" and assign it the values [1, 2, 3, 4, 5].\n",
    "list_var = [1, 2, 3, 4, 5]\n",
    "\n",
    "# 6. Use the .append() method to add the value 6 to the list and print the result.\n",
    "list_var.append(6)\n",
    "print(list_var)\n",
    "\n",
    "# 7. Use the .pop() method to remove the last value in the list (6) and print the result.\n",
    "list_var.pop()\n",
    "print(list_var)\n",
    "\n",
    "# 8. Use the .index() method to find the index of the value 3 in the list and print the result.\n",
    "print(list_var.index(3))\n",
    "\n",
    "# 9. Create a dictionary variable named \"dict_var\" and assign it the key-value pairs {\"name\":\"John\", \"age\":30, \"location\":\"New York\"}\n",
    "dict_var = {\"name\":\"John\", \"age\":30, \"location\":\"New York\"}\n",
    "\n",
    "# 10. Use the .keys() method to print the keys of the dictionary.\n",
    "print(dict_var.keys())\n",
    "\n",
    "# 11. Use the .values() method to print the values of the dictionary.\n",
    "print(dict_var.values())\n",
    "\n",
    "# 12. Use the .items() method to print the key-value pairs of the dictionary.\n",
    "print(dict_var.items())\n",
    "\n",
    "# 13. Use the .get() method to retrieve the value of the key \"age\" from the dictionary and print the result.\n",
    "print(dict_var.get(\"age\"))"
   ]
  }
 ],
 "metadata": {
  "kernelspec": {
   "display_name": "Python 3 (ipykernel)",
   "language": "python",
   "name": "python3"
  },
  "language_info": {
   "codemirror_mode": {
    "name": "ipython",
    "version": 3
   },
   "file_extension": ".py",
   "mimetype": "text/x-python",
   "name": "python",
   "nbconvert_exporter": "python",
   "pygments_lexer": "ipython3",
   "version": "3.9.7"
  }
 },
 "nbformat": 4,
 "nbformat_minor": 5
}
