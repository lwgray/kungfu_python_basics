{
 "cells": [
  {
   "cell_type": "markdown",
   "id": "ad00717e-e953-4dfb-a1b6-4b66bd2e6303",
   "metadata": {
    "tags": []
   },
   "source": [
    "# Homework Assignment 1: Introduction to Python"
   ]
  },
  {
   "cell_type": "markdown",
   "id": "71040c84-6fdc-47ad-8b31-b28491a6cfba",
   "metadata": {},
   "source": [
    "### 1. Create a variable called \"name\" and assign it the value of your name as a string."
   ]
  },
  {
   "cell_type": "markdown",
   "id": "700b400d-5421-4e97-bc42-110fa06f4399",
   "metadata": {},
   "source": [
    "### 2. Create a variable called \"age\" and assign it the value of your age as an integer."
   ]
  },
  {
   "cell_type": "markdown",
   "id": "34f6985f-65e2-4c27-93c7-d31e0faf0cec",
   "metadata": {},
   "source": [
    "### 3. Create a variable called \"isStudent\" and assign it the value of whether or not you are currently a student as a boolean."
   ]
  },
  {
   "cell_type": "markdown",
   "id": "f35baa77-7b84-4a7e-8a82-ccd4d91d4391",
   "metadata": {},
   "source": [
    "### 4. Use the print() function to print out a sentence that says \"My name is [name] and I am [age] years old.\""
   ]
  },
  {
   "cell_type": "markdown",
   "id": "f603452a-64e8-4453-97aa-ce1a108ecb21",
   "metadata": {},
   "source": [
    "### 5. Use an if-statement to check the value of \"isStudent\". If it is True, print out \"I am currently a student.\" If it is False, print out \"I am not currently a student.\""
   ]
  },
  {
   "cell_type": "markdown",
   "id": "f01afd7e-86bd-4464-9f06-85c611568363",
   "metadata": {},
   "source": [
    "### 6. Create a list of your favorite foods and call it \"favorites\"."
   ]
  },
  {
   "cell_type": "markdown",
   "id": "8a5e2223-88a3-45a5-9d09-0a461f8fb09a",
   "metadata": {},
   "source": [
    "### 7. Use a for loop to iterate through the list and print out each food."
   ]
  },
  {
   "cell_type": "markdown",
   "id": "ccd3ecae-4cbf-4e8a-8e51-ca97ef48a049",
   "metadata": {},
   "source": [
    "### 8. Use the len() function to print out the length of the list."
   ]
  },
  {
   "cell_type": "markdown",
   "id": "71421c90-732e-4c88-bb5b-473fc24a7f1e",
   "metadata": {},
   "source": [
    "### 9. Create a dictionary with keys \"name\", \"age\", \"isStudent\", and \"favorites\" and assign the corresponding values from the variables and list you created earlier."
   ]
  },
  {
   "cell_type": "markdown",
   "id": "a8ee5a7a-c3b4-4c6e-9837-7cb13ef6cefa",
   "metadata": {},
   "source": [
    "### 10. Use a for loop to iterate through the dictionary and print out each key and value."
   ]
  },
  {
   "cell_type": "code",
   "execution_count": null,
   "id": "541b74e0-2de2-4d2b-988f-0ace50746d7a",
   "metadata": {},
   "outputs": [],
   "source": []
  },
  {
   "cell_type": "markdown",
   "id": "51434e88-4be4-4cbb-895d-8d8a5a9c4c27",
   "metadata": {
    "tags": []
   },
   "source": [
    "# Homework Assignment 2: Python Conditionals for Beginners"
   ]
  },
  {
   "cell_type": "markdown",
   "id": "03294d46-360d-4f55-acc7-1211ba860157",
   "metadata": {},
   "source": [
    "### 1. Create a variable called \"temperature\" and assign it a value of the current temperature in Fahrenheit."
   ]
  },
  {
   "cell_type": "markdown",
   "id": "2632f959-e005-4ef6-b95f-82e85af5890b",
   "metadata": {},
   "source": [
    "### 2. Use an if-else statement to check the value of the temperature and print out whether it is \"hot\", \"warm\", \"cool\", or \"cold\" based on the following ranges:\n",
    "\n",
    "* Hot: over 90 degrees\n",
    "* Warm: between 70 and 89 degrees\n",
    "* Cool: between 50 and 69 degrees\n",
    "* Cold: below 50 degrees"
   ]
  },
  {
   "cell_type": "markdown",
   "id": "709bf2c1-f30f-4e86-a56c-5e5e28d4dd1e",
   "metadata": {},
   "source": [
    "### 3. Create a variable called \"is_raining\" and assign it a boolean value of whether or not it is currently raining."
   ]
  },
  {
   "cell_type": "markdown",
   "id": "a06d83c9-ee39-444e-9a07-9ed35266dbcc",
   "metadata": {},
   "source": [
    "### 4. Use an if-else statement to check the value of \"is_raining\" and print out whether it is \"raining\" or \"not raining\"."
   ]
  },
  {
   "cell_type": "markdown",
   "id": "74b1e525-ba59-4b8a-81b1-b31c1cfc3c06",
   "metadata": {},
   "source": [
    "### 5. Create a variable called \"day_of_week\" and assign it a string value of the current day of the week."
   ]
  },
  {
   "cell_type": "markdown",
   "id": "e63e34b7-e8ff-4f73-bf43-4891710b2cb9",
   "metadata": {},
   "source": [
    "### 6. Use an if-elif-else statement to check the value of \"day_of_week\" and print out whether it is \"weekday\" or \"weekend\" based on the following values:\n",
    "\n",
    "* Monday, Tuesday, Wednesday, Thursday, Friday = weekday\n",
    "* Saturday, Sunday = weekend"
   ]
  },
  {
   "cell_type": "markdown",
   "id": "616856b9-73c1-4397-8a75-ec66e316b826",
   "metadata": {},
   "source": [
    "### 7. Create a variable called \"age\" and assign it an integer value of your age."
   ]
  },
  {
   "cell_type": "markdown",
   "id": "854d4ab1-1127-4dc2-9378-bb0edcacef11",
   "metadata": {},
   "source": [
    "### 8. Use an if-elif-else statement to check the value of \"age\" and print out whether the person is a \"child\", \"teenager\", \"adult\", or \"senior\" based on the following ranges:\n",
    "\n",
    "* Child: under 13\n",
    "* Teenager: between 13 and 17\n",
    "* Adult: between 18 and 64\n",
    "* Senior: over 64"
   ]
  },
  {
   "cell_type": "markdown",
   "id": "8b0911af-04bf-4fa1-8793-9de681684789",
   "metadata": {},
   "source": [
    "# Homework Assignment 3"
   ]
  },
  {
   "cell_type": "markdown",
   "id": "d7b654ce-dfcf-44dc-86c0-583b168eaeac",
   "metadata": {
    "jp-MarkdownHeadingCollapsed": true,
    "tags": []
   },
   "source": [
    "### 1. Create a string variable named \"string_var\" and assign it the value \"Hello World!\""
   ]
  },
  {
   "cell_type": "markdown",
   "id": "4d65de0a-b1a9-4f39-9f75-5691fa1a4c33",
   "metadata": {
    "jp-MarkdownHeadingCollapsed": true,
    "tags": []
   },
   "source": [
    "### 2. Use the .upper() method to convert the string to uppercase and print the result."
   ]
  },
  {
   "cell_type": "markdown",
   "id": "1c218cc8-42a7-4bf5-ba18-d647a38ecee3",
   "metadata": {
    "jp-MarkdownHeadingCollapsed": true,
    "tags": []
   },
   "source": [
    "### 3. Use the .replace() method to replace the word \"World\" with \"Python\" in the string and print the result."
   ]
  },
  {
   "cell_type": "markdown",
   "id": "6b11f64c-55c3-4239-9fc8-dc2ccfa729c2",
   "metadata": {
    "tags": []
   },
   "source": [
    "### 4. Use the .split() method to convert the string into a list of words and print the result."
   ]
  },
  {
   "cell_type": "markdown",
   "id": "80be9e1a-db23-46b1-985e-20fd5c8a9864",
   "metadata": {
    "tags": []
   },
   "source": [
    "### 5. Create a list variable named \"list_var\" and assign it the values [1, 2, 3, 4, 5]."
   ]
  },
  {
   "cell_type": "markdown",
   "id": "ec4a81c4-c507-4300-92bb-d3923cdc83cb",
   "metadata": {
    "tags": []
   },
   "source": [
    "### 6. Use the .append() method to add the value 6 to the list and print the result."
   ]
  },
  {
   "cell_type": "markdown",
   "id": "96bcc7c8-2111-4ef0-9ee6-d67c7ee34692",
   "metadata": {
    "jp-MarkdownHeadingCollapsed": true,
    "tags": []
   },
   "source": [
    "### 7. Use the .pop() method to remove the last value in the list (6) and print the result."
   ]
  },
  {
   "cell_type": "markdown",
   "id": "88f654be-f0a8-4a1a-a806-50f168443144",
   "metadata": {
    "jp-MarkdownHeadingCollapsed": true,
    "tags": []
   },
   "source": [
    "### 8. Use the .index() method to find the index of the value 3 in the list and print the result."
   ]
  },
  {
   "cell_type": "markdown",
   "id": "d0927855-240d-4e7b-8f9f-e55f7737adfe",
   "metadata": {
    "jp-MarkdownHeadingCollapsed": true,
    "tags": []
   },
   "source": [
    "### 9. Create a dictionary variable named \"dict_var\" and assign it the key-value pairs {\"name\":\"John\", \"age\":30, \"location\":\"New York\"}"
   ]
  },
  {
   "cell_type": "markdown",
   "id": "c10546e7-61b6-487e-be39-e40b3a2dc4f9",
   "metadata": {
    "jp-MarkdownHeadingCollapsed": true,
    "tags": []
   },
   "source": [
    "### 10. Use the .keys() method to print the keys of the dictionary."
   ]
  },
  {
   "cell_type": "markdown",
   "id": "00fe71fa-ae6e-4964-9510-404b9266533e",
   "metadata": {
    "jp-MarkdownHeadingCollapsed": true,
    "tags": []
   },
   "source": [
    "### 11. Use the .values() method to print the values of the dictionary."
   ]
  },
  {
   "cell_type": "markdown",
   "id": "3c63f4a7-3f20-4e1e-9e28-f10d0441eefe",
   "metadata": {
    "jp-MarkdownHeadingCollapsed": true,
    "tags": []
   },
   "source": [
    "### 12. Use the .items() method to print the key-value pairs of the dictionary."
   ]
  },
  {
   "cell_type": "markdown",
   "id": "72e8b5e8-3aba-4964-be5c-f5e4fedbcfb3",
   "metadata": {
    "tags": []
   },
   "source": [
    "### 13. Use the .get() method to retrieve the value of the key \"age\" from the dictionary and print the result."
   ]
  },
  {
   "cell_type": "code",
   "execution_count": null,
   "id": "dbf6ebd5-e6d8-462a-81e2-b9c30cf09b56",
   "metadata": {},
   "outputs": [],
   "source": []
  }
 ],
 "metadata": {
  "kernelspec": {
   "display_name": "Python 3 (ipykernel)",
   "language": "python",
   "name": "python3"
  },
  "language_info": {
   "codemirror_mode": {
    "name": "ipython",
    "version": 3
   },
   "file_extension": ".py",
   "mimetype": "text/x-python",
   "name": "python",
   "nbconvert_exporter": "python",
   "pygments_lexer": "ipython3",
   "version": "3.9.7"
  }
 },
 "nbformat": 4,
 "nbformat_minor": 5
}
